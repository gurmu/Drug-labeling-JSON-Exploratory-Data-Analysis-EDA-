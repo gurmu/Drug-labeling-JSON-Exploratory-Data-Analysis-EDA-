{
 "cells": [
  {
   "cell_type": "markdown",
   "metadata": {},
   "source": [
    "<h1><Center>Drug labeling JSON Exploratory Data Analysis(EDA)</Center></h1>"
   ]
  },
  {
   "cell_type": "markdown",
   "metadata": {},
   "source": [
    "# Lesson Goals\n",
    "\n",
    "<div style=\"text-align: Justify\"> In this lesson, we will do Web scraping of FDA website and we will learn how to explore Json datase in R.  </div>\n",
    "\n",
    "______\n",
    "# Prerequests \n",
    "  1. Install the below mentioned libraries\n",
    "  \n",
    "  NB:make sure Jupyter Notebook "
   ]
  },
  {
   "cell_type": "code",
   "execution_count": 1,
   "metadata": {},
   "outputs": [
    {
     "name": "stderr",
     "output_type": "stream",
     "text": [
      "\n",
      "Attaching package: 'dplyr'\n",
      "\n",
      "The following objects are masked from 'package:stats':\n",
      "\n",
      "    filter, lag\n",
      "\n",
      "The following objects are masked from 'package:base':\n",
      "\n",
      "    intersect, setdiff, setequal, union\n",
      "\n",
      "Registered S3 methods overwritten by 'ggplot2':\n",
      "  method         from \n",
      "  [.quosures     rlang\n",
      "  c.quosures     rlang\n",
      "  print.quosures rlang\n",
      "Warning message:\n",
      "\"package 'downloader' was built under R version 3.6.3\"\n",
      "Attaching package: 'lubridate'\n",
      "\n",
      "The following object is masked from 'package:base':\n",
      "\n",
      "    date\n",
      "\n"
     ]
    }
   ],
   "source": [
    "library(jsonlite)     # flexible, robust, high performance tools for working with JSON in R\n",
    "library(dplyr)        # A fast, consistent tool for working with data frame like objects\n",
    "library(stringi)      # Character String Processing Facilities\n",
    "library(ggplot2)      # An Implementation of the Grammar of Graphics\n",
    "library(downloader)   # Download Files over HTTP and HTTPS\n",
    "library(lubridate)    # To work with date-times"
   ]
  },
  {
   "cell_type": "markdown",
   "metadata": {},
   "source": [
    "***Downloading JSON data***"
   ]
  },
  {
   "cell_type": "markdown",
   "metadata": {},
   "source": [
    "Let's download the prescription and over-the-counter (OTC) drug labeling data from the openFDA website. The openFDA drug product labeling API provides data for prescription and over-the-counter (OTC) drug labeling.\n",
    "\n",
    "There are five data files and we will use a for loop to download all of them. Then, we will concatenate them."
   ]
  },
  {
   "cell_type": "code",
   "execution_count": null,
   "metadata": {},
   "outputs": [],
   "source": [
    "for(i in 1:9){\n",
    "    url=paste0(\"https://download.open.fda.gov/drug/label/drug-label-000\",i,\"-of-0009.json.zip\")\n",
    "    download(url,dest=\"json.zip\")\n",
    "    unzip (\"json.zip\")\n",
    "}"
   ]
  },
  {
   "cell_type": "markdown",
   "metadata": {},
   "source": [
    "Let's see if we have downloaded all the data files."
   ]
  },
  {
   "cell_type": "code",
   "execution_count": 2,
   "metadata": {},
   "outputs": [
    {
     "data": {
      "text/html": [
       "<ol class=list-inline>\n",
       "\t<li>'-Customer-Segmentation-Analysis-using-unsupervised-learning-in-Retail-Sectors-'</li>\n",
       "\t<li>'__pycache__'</li>\n",
       "\t<li>'3D Objects'</li>\n",
       "\t<li>'anaco'</li>\n",
       "\t<li>'anaconda3'</li>\n",
       "\t<li>'Anomaly Detection.ipynb'</li>\n",
       "\t<li>'ap.py'</li>\n",
       "\t<li>'App Rate Prediction.ipynb'</li>\n",
       "\t<li>'App.py'</li>\n",
       "\t<li>'AppData'</li>\n",
       "\t<li>'Apple'</li>\n",
       "\t<li>'Application Data'</li>\n",
       "\t<li>'Ashenafi'</li>\n",
       "\t<li>'ashenafig'</li>\n",
       "\t<li>'ashj'</li>\n",
       "\t<li>'auto_delete.log'</li>\n",
       "\t<li>'auto_delete.py'</li>\n",
       "\t<li>'AWS.ipynb'</li>\n",
       "\t<li>'AWS_RDS_R_Python.html'</li>\n",
       "\t<li>'AWS_RDS_R_Python.ipynb'</li>\n",
       "\t<li>'awsAshuuuu-Copy1.ipynb'</li>\n",
       "\t<li>'awsAshuuuu.ipynb'</li>\n",
       "\t<li>'beautifulsoup.ipynb'</li>\n",
       "\t<li>'bible.txt'</li>\n",
       "\t<li>'bible_frequency analysis.ipynb'</li>\n",
       "\t<li>'bot'</li>\n",
       "\t<li>'car.py'</li>\n",
       "\t<li>'Chicago_crime.ipynb'</li>\n",
       "\t<li>'cmake'</li>\n",
       "\t<li>'cocoapi'</li>\n",
       "\t<li>'columbia.py'</li>\n",
       "\t<li>'Contacts'</li>\n",
       "\t<li>'contractions.py'</li>\n",
       "\t<li>'Cookies'</li>\n",
       "\t<li>'corenlp_server-b70818ebd1674ff0.props'</li>\n",
       "\t<li>'Covera_exercise.ipynb'</li>\n",
       "\t<li>'Crimes_-_2001_to_Present.csv'</li>\n",
       "\t<li>'curl-7.69.1-win64-mingw'</li>\n",
       "\t<li>'Customer Segmentation.ipynb'</li>\n",
       "\t<li>'data1.RData'</li>\n",
       "\t<li>'data2.RData'</li>\n",
       "\t<li>'Dataset preparation.ipynb'</li>\n",
       "\t<li>'Deep Learning'</li>\n",
       "\t<li>'Desktop'</li>\n",
       "\t<li>'detection.py'</li>\n",
       "\t<li>'Dev'</li>\n",
       "\t<li>'Documents'</li>\n",
       "\t<li>'downloader.zip'</li>\n",
       "\t<li>'Downloads'</li>\n",
       "\t<li>'drug-label-0001-of-0009.json'</li>\n",
       "\t<li>'drug-label-0002-of-0009.json'</li>\n",
       "\t<li>'drug-label-0003-of-0009.json'</li>\n",
       "\t<li>'drug-label-0004-of-0009.json'</li>\n",
       "\t<li>'drug-label-0005-of-0009.json'</li>\n",
       "\t<li>'drug-label-0006-of-0009.json'</li>\n",
       "\t<li>'drug-label-0007-of-0009.json'</li>\n",
       "\t<li>'drug-label-0008-of-0009.json'</li>\n",
       "\t<li>'drug-label-0009-of-0009.json'</li>\n",
       "\t<li>'drugLabelj.ipynb'</li>\n",
       "\t<li>'E- commerce Customer Segmentation_final.ipynb'</li>\n",
       "\t<li>'elasticsearch-7.6.1'</li>\n",
       "\t<li>'env'</li>\n",
       "\t<li>'Equipment installation app.ipynb'</li>\n",
       "\t<li>'ex2data2.txt'</li>\n",
       "\t<li>'Favorites'</li>\n",
       "\t<li>'filename.pkl'</li>\n",
       "\t<li>'files'</li>\n",
       "\t<li>'Final Assignment_1.ipynb'</li>\n",
       "\t<li>'final_Bible_Quran_Analysis.ipynb'</li>\n",
       "\t<li>'final_model.sav'</li>\n",
       "\t<li>'finalized_model.sav'</li>\n",
       "\t<li>'firstJava_hello'</li>\n",
       "\t<li>'geopandas'</li>\n",
       "\t<li>'geopandas-tutorial'</li>\n",
       "\t<li>'get-pip.py'</li>\n",
       "\t<li><span style=white-space:pre-wrap>'Groundwater  Quality Prediction with Sparkml.ipynb'</span></li>\n",
       "\t<li>'haarcascade_frontalface_default_xml.xml'</li>\n",
       "\t<li>'hadoop'</li>\n",
       "\t<li>'HomeObject_DL.ipynb'</li>\n",
       "\t<li>'image.ipynb'</li>\n",
       "\t<li>'imagedetection.py'</li>\n",
       "\t<li>'img'</li>\n",
       "\t<li>'index'</li>\n",
       "\t<li>'index.html'</li>\n",
       "\t<li>'index.js'</li>\n",
       "\t<li>'intro_geo_1.ipynb'</li>\n",
       "\t<li>'intro_geo1.ipynb'</li>\n",
       "\t<li>'Jesus_blog'</li>\n",
       "\t<li>'json.zip'</li>\n",
       "\t<li>'JsonCV'</li>\n",
       "\t<li>'Jupyter Notebook (Anaconda3).lnk'</li>\n",
       "\t<li>'kibana-7.6.1'</li>\n",
       "\t<li>'leaflet_plotly_shiny.html'</li>\n",
       "\t<li>'Links'</li>\n",
       "\t<li>'Local Settings'</li>\n",
       "\t<li>'logstash'</li>\n",
       "\t<li>'LSTM multi-step time series forecasting of household power consumption..ipynb'</li>\n",
       "\t<li>'machine learning scikit.ipynb'</li>\n",
       "\t<li>'Machine Learning with Spark.ipynb'</li>\n",
       "\t<li>'Mask_RCNN-master'</li>\n",
       "\t<li>'mask_rcnn_coco.h5'</li>\n",
       "\t<li>'mask_rcnn_coco.hy'</li>\n",
       "\t<li>'maskrcnn_config20200114T1111'</li>\n",
       "\t<li>'maskrcnn_config20200114T1146'</li>\n",
       "\t<li>'maskrcnn_config20200114T1321'</li>\n",
       "\t<li>'maskrcnn_config20200114T1328'</li>\n",
       "\t<li>'Mental_emotion_sentiment_classification.ipynb'</li>\n",
       "\t<li>'metricbeat'</li>\n",
       "\t<li>'Microsoft'</li>\n",
       "\t<li>'MicrosoftEdgeBackups'</li>\n",
       "\t<li>'miktex-console.lock'</li>\n",
       "\t<li>'model.h5'</li>\n",
       "\t<li>'model_evaluation_utils.py'</li>\n",
       "\t<li>'models'</li>\n",
       "\t<li>'Monday_loss.ipynb'</li>\n",
       "\t<li>'MongoDB_R_Python.html'</li>\n",
       "\t<li>'Music'</li>\n",
       "\t<li>'My Documents'</li>\n",
       "\t<li>'myfile.py'</li>\n",
       "\t<li>'NetHood'</li>\n",
       "\t<li>'New-Jersey-Air-Quality-Prediction'</li>\n",
       "\t<li>'new 1'</li>\n",
       "\t<li>'new Jerse Air Pollution.ipynb'</li>\n",
       "\t<li>'news.csv'</li>\n",
       "\t<li>'nga_z_artists.py'</li>\n",
       "\t<li>'nlp_hotel review.ipynb'</li>\n",
       "\t<li>'node_modules'</li>\n",
       "\t<li>'notebook.ipynb'</li>\n",
       "\t<li>'notebook_leaf.ipynb'</li>\n",
       "\t<li>'notebook_leaf.R'</li>\n",
       "\t<li>'notebook_mongo.ipynb'</li>\n",
       "\t<li>'NTUSER.DAT'</li>\n",
       "\t<li>'ntuser.dat.LOG1'</li>\n",
       "\t<li>'ntuser.dat.LOG2'</li>\n",
       "\t<li>'NTUSER.DAT{fd9a35db-49fe-11e9-aa2c-248a07783950}.TM.blf'</li>\n",
       "\t<li>'NTUSER.DAT{fd9a35db-49fe-11e9-aa2c-248a07783950}.TMContainer00000000000000000001.regtrans-ms'</li>\n",
       "\t<li>'NTUSER.DAT{fd9a35db-49fe-11e9-aa2c-248a07783950}.TMContainer00000000000000000002.regtrans-ms'</li>\n",
       "\t<li>'ntuser.ini'</li>\n",
       "\t<li>'OMG.ipynb'</li>\n",
       "\t<li>'OneDrive'</li>\n",
       "\t<li>'opencv'</li>\n",
       "\t<li>'opencv_contrib'</li>\n",
       "\t<li>'osgeo4w'</li>\n",
       "\t<li>'pickle_model.pkl'</li>\n",
       "\t<li>'Pickle_RL_Model.pkl'</li>\n",
       "\t<li>'Pictures'</li>\n",
       "\t<li>'Pipfile'</li>\n",
       "\t<li>'Pipfile.lock'</li>\n",
       "\t<li>'Pizza-Team'</li>\n",
       "\t<li>'please.ipynb'</li>\n",
       "\t<li>'PrintHood'</li>\n",
       "\t<li>'protobuf-3.4.0'</li>\n",
       "\t<li>'public'</li>\n",
       "\t<li>'PycharmProjects'</li>\n",
       "\t<li>'quran.txt'</li>\n",
       "\t<li>'R'</li>\n",
       "\t<li>'Rasa.py'</li>\n",
       "\t<li>'Recent'</li>\n",
       "\t<li>'RegularizedLogisticRegression.rda'</li>\n",
       "\t<li>'requirement.txt'</li>\n",
       "\t<li>'resume.html'</li>\n",
       "\t<li>'resume.pdf'</li>\n",
       "\t<li>'right.wav'</li>\n",
       "\t<li>'sample.py'</li>\n",
       "\t<li>'Saved Games'</li>\n",
       "\t<li>'scr'</li>\n",
       "\t<li>'scrab.py'</li>\n",
       "\t<li>'Searches'</li>\n",
       "\t<li>'Segments'</li>\n",
       "\t<li>'SendTo'</li>\n",
       "\t<li>'sentiment analysis of news article.ipynb'</li>\n",
       "\t<li>'server_metrics.tar.gz'</li>\n",
       "\t<li>'Shiny_logistic_regression.ipynb'</li>\n",
       "\t<li>'Smart Chatbot - Build The Dataset.ipynb'</li>\n",
       "\t<li>'source'</li>\n",
       "\t<li>'Spark'</li>\n",
       "\t<li>'spark_bible.ipynb'</li>\n",
       "\t<li>'Speech Recognition.ipynb'</li>\n",
       "\t<li>'stanfordnlp_resources'</li>\n",
       "\t<li>'Start Menu'</li>\n",
       "\t<li>'startbootstrap-resume-master'</li>\n",
       "\t<li>'Templates'</li>\n",
       "\t<li>'test_data.csv'</li>\n",
       "\t<li>'test1.jpg'</li>\n",
       "\t<li>'test2.jpg'</li>\n",
       "\t<li>'test20200114T1911'</li>\n",
       "\t<li>'testing_set'</li>\n",
       "\t<li>'train.csv'</li>\n",
       "\t<li>'training_set'</li>\n",
       "\t<li>'tricky_crack_html.ipynb'</li>\n",
       "\t<li>'Untitled.ipynb'</li>\n",
       "\t<li>'Untitled1.ipynb'</li>\n",
       "\t<li>'Untitled10.ipynb'</li>\n",
       "\t<li>'Untitled100.ipynb'</li>\n",
       "\t<li>'Untitled101.ipynb'</li>\n",
       "\t<li>'Untitled102.ipynb'</li>\n",
       "\t<li>'Untitled103.ipynb'</li>\n",
       "\t<li>'Untitled104.ipynb'</li>\n",
       "\t<li>'Untitled105.ipynb'</li>\n",
       "\t<li>'Untitled106.ipynb'</li>\n",
       "\t<li>'Untitled107.ipynb'</li>\n",
       "\t<li>'Untitled108.ipynb'</li>\n",
       "\t<li>'Untitled109.ipynb'</li>\n",
       "\t<li>'Untitled11.ipynb'</li>\n",
       "\t<li>'Untitled111.ipynb'</li>\n",
       "\t<li>'Untitled112.ipynb'</li>\n",
       "\t<li>'Untitled114.ipynb'</li>\n",
       "\t<li>'Untitled12.ipynb'</li>\n",
       "\t<li>'Untitled13.ipynb'</li>\n",
       "\t<li>'Untitled14.ipynb'</li>\n",
       "\t<li>'Untitled15.ipynb'</li>\n",
       "\t<li>'Untitled16.ipynb'</li>\n",
       "\t<li>'Untitled17.ipynb'</li>\n",
       "\t<li>'Untitled18.ipynb'</li>\n",
       "\t<li>'Untitled19.ipynb'</li>\n",
       "\t<li>'Untitled2.ipynb'</li>\n",
       "\t<li>'Untitled20.ipynb'</li>\n",
       "\t<li>'Untitled21.ipynb'</li>\n",
       "\t<li>'Untitled22.ipynb'</li>\n",
       "\t<li>'Untitled23.ipynb'</li>\n",
       "\t<li>'Untitled24.ipynb'</li>\n",
       "\t<li>'Untitled25.ipynb'</li>\n",
       "\t<li>'Untitled26.ipynb'</li>\n",
       "\t<li>'Untitled27.ipynb'</li>\n",
       "\t<li>'Untitled28.ipynb'</li>\n",
       "\t<li>'Untitled29.ipynb'</li>\n",
       "\t<li>'Untitled3.ipynb'</li>\n",
       "\t<li>'Untitled30.ipynb'</li>\n",
       "\t<li>'Untitled31.ipynb'</li>\n",
       "\t<li>'Untitled32.ipynb'</li>\n",
       "\t<li>'Untitled33.ipynb'</li>\n",
       "\t<li>'Untitled34.ipynb'</li>\n",
       "\t<li>'Untitled35.ipynb'</li>\n",
       "\t<li>'Untitled36.ipynb'</li>\n",
       "\t<li>'Untitled37.ipynb'</li>\n",
       "\t<li>'Untitled38.ipynb'</li>\n",
       "\t<li>'Untitled39.ipynb'</li>\n",
       "\t<li>'Untitled4.ipynb'</li>\n",
       "\t<li>'Untitled40.ipynb'</li>\n",
       "\t<li>'Untitled41.ipynb'</li>\n",
       "\t<li>'Untitled42.ipynb'</li>\n",
       "\t<li>'Untitled43.ipynb'</li>\n",
       "\t<li>'Untitled44.ipynb'</li>\n",
       "\t<li>'Untitled45.ipynb'</li>\n",
       "\t<li>'Untitled46.ipynb'</li>\n",
       "\t<li>'Untitled47.ipynb'</li>\n",
       "\t<li>'Untitled48.ipynb'</li>\n",
       "\t<li>'Untitled49.ipynb'</li>\n",
       "\t<li>'Untitled5.ipynb'</li>\n",
       "\t<li>'Untitled50.ipynb'</li>\n",
       "\t<li>'Untitled51.ipynb'</li>\n",
       "\t<li>'Untitled52.ipynb'</li>\n",
       "\t<li>'Untitled53.ipynb'</li>\n",
       "\t<li>'Untitled54.ipynb'</li>\n",
       "\t<li>'Untitled55.ipynb'</li>\n",
       "\t<li>'Untitled56.ipynb'</li>\n",
       "\t<li>'Untitled57.ipynb'</li>\n",
       "\t<li>'Untitled58.ipynb'</li>\n",
       "\t<li>'Untitled59.ipynb'</li>\n",
       "\t<li>'Untitled6.ipynb'</li>\n",
       "\t<li>'Untitled60.ipynb'</li>\n",
       "\t<li>'Untitled61.ipynb'</li>\n",
       "\t<li>'Untitled62.ipynb'</li>\n",
       "\t<li>'Untitled63.ipynb'</li>\n",
       "\t<li>'Untitled64.ipynb'</li>\n",
       "\t<li>'Untitled65.ipynb'</li>\n",
       "\t<li>'Untitled66.ipynb'</li>\n",
       "\t<li>'Untitled67.ipynb'</li>\n",
       "\t<li>'Untitled68.ipynb'</li>\n",
       "\t<li>'Untitled69.ipynb'</li>\n",
       "\t<li>'Untitled7.ipynb'</li>\n",
       "\t<li>'Untitled70.ipynb'</li>\n",
       "\t<li>'Untitled71.ipynb'</li>\n",
       "\t<li>'Untitled72.ipynb'</li>\n",
       "\t<li>'Untitled73.ipynb'</li>\n",
       "\t<li>'Untitled74.ipynb'</li>\n",
       "\t<li>'Untitled75.ipynb'</li>\n",
       "\t<li>'Untitled76.ipynb'</li>\n",
       "\t<li>'Untitled77.ipynb'</li>\n",
       "\t<li>'Untitled78.ipynb'</li>\n",
       "\t<li>'Untitled79.ipynb'</li>\n",
       "\t<li>'Untitled8.ipynb'</li>\n",
       "\t<li>'Untitled80.ipynb'</li>\n",
       "\t<li>'Untitled81.ipynb'</li>\n",
       "\t<li>'Untitled82.ipynb'</li>\n",
       "\t<li>'Untitled83.ipynb'</li>\n",
       "\t<li>'Untitled84.ipynb'</li>\n",
       "\t<li>'Untitled85.ipynb'</li>\n",
       "\t<li>'Untitled86.ipynb'</li>\n",
       "\t<li>'Untitled87.ipynb'</li>\n",
       "\t<li>'Untitled88.ipynb'</li>\n",
       "\t<li>'Untitled89.ipynb'</li>\n",
       "\t<li>'Untitled9.ipynb'</li>\n",
       "\t<li>'Untitled90.ipynb'</li>\n",
       "\t<li>'Untitled91.ipynb'</li>\n",
       "\t<li>'Untitled92.ipynb'</li>\n",
       "\t<li>'Untitled93.ipynb'</li>\n",
       "\t<li>'Untitled94.ipynb'</li>\n",
       "\t<li>'Untitled95.ipynb'</li>\n",
       "\t<li>'Untitled96.ipynb'</li>\n",
       "\t<li>'Untitled97.ipynb'</li>\n",
       "\t<li>'Untitled98.ipynb'</li>\n",
       "\t<li>'Untitled99.ipynb'</li>\n",
       "\t<li>'venv'</li>\n",
       "\t<li>'Videos'</li>\n",
       "\t<li>'VirtualBox VMs'</li>\n",
       "\t<li>'Web'</li>\n",
       "\t<li>'Word_frequency_distribution_analysis.ipynb'</li>\n",
       "\t<li>'WpfApp1'</li>\n",
       "\t<li>'yes.wav'</li>\n",
       "\t<li>'z-artist-names.csv'</li>\n",
       "</ol>\n"
      ],
      "text/latex": [
       "\\begin{enumerate*}\n",
       "\\item '-Customer-Segmentation-Analysis-using-unsupervised-learning-in-Retail-Sectors-'\n",
       "\\item '\\_\\_pycache\\_\\_'\n",
       "\\item '3D Objects'\n",
       "\\item 'anaco'\n",
       "\\item 'anaconda3'\n",
       "\\item 'Anomaly Detection.ipynb'\n",
       "\\item 'ap.py'\n",
       "\\item 'App Rate Prediction.ipynb'\n",
       "\\item 'App.py'\n",
       "\\item 'AppData'\n",
       "\\item 'Apple'\n",
       "\\item 'Application Data'\n",
       "\\item 'Ashenafi'\n",
       "\\item 'ashenafig'\n",
       "\\item 'ashj'\n",
       "\\item 'auto\\_delete.log'\n",
       "\\item 'auto\\_delete.py'\n",
       "\\item 'AWS.ipynb'\n",
       "\\item 'AWS\\_RDS\\_R\\_Python.html'\n",
       "\\item 'AWS\\_RDS\\_R\\_Python.ipynb'\n",
       "\\item 'awsAshuuuu-Copy1.ipynb'\n",
       "\\item 'awsAshuuuu.ipynb'\n",
       "\\item 'beautifulsoup.ipynb'\n",
       "\\item 'bible.txt'\n",
       "\\item 'bible\\_frequency analysis.ipynb'\n",
       "\\item 'bot'\n",
       "\\item 'car.py'\n",
       "\\item 'Chicago\\_crime.ipynb'\n",
       "\\item 'cmake'\n",
       "\\item 'cocoapi'\n",
       "\\item 'columbia.py'\n",
       "\\item 'Contacts'\n",
       "\\item 'contractions.py'\n",
       "\\item 'Cookies'\n",
       "\\item 'corenlp\\_server-b70818ebd1674ff0.props'\n",
       "\\item 'Covera\\_exercise.ipynb'\n",
       "\\item 'Crimes\\_-\\_2001\\_to\\_Present.csv'\n",
       "\\item 'curl-7.69.1-win64-mingw'\n",
       "\\item 'Customer Segmentation.ipynb'\n",
       "\\item 'data1.RData'\n",
       "\\item 'data2.RData'\n",
       "\\item 'Dataset preparation.ipynb'\n",
       "\\item 'Deep Learning'\n",
       "\\item 'Desktop'\n",
       "\\item 'detection.py'\n",
       "\\item 'Dev'\n",
       "\\item 'Documents'\n",
       "\\item 'downloader.zip'\n",
       "\\item 'Downloads'\n",
       "\\item 'drug-label-0001-of-0009.json'\n",
       "\\item 'drug-label-0002-of-0009.json'\n",
       "\\item 'drug-label-0003-of-0009.json'\n",
       "\\item 'drug-label-0004-of-0009.json'\n",
       "\\item 'drug-label-0005-of-0009.json'\n",
       "\\item 'drug-label-0006-of-0009.json'\n",
       "\\item 'drug-label-0007-of-0009.json'\n",
       "\\item 'drug-label-0008-of-0009.json'\n",
       "\\item 'drug-label-0009-of-0009.json'\n",
       "\\item 'drugLabelj.ipynb'\n",
       "\\item 'E- commerce Customer Segmentation\\_final.ipynb'\n",
       "\\item 'elasticsearch-7.6.1'\n",
       "\\item 'env'\n",
       "\\item 'Equipment installation app.ipynb'\n",
       "\\item 'ex2data2.txt'\n",
       "\\item 'Favorites'\n",
       "\\item 'filename.pkl'\n",
       "\\item 'files'\n",
       "\\item 'Final Assignment\\_1.ipynb'\n",
       "\\item 'final\\_Bible\\_Quran\\_Analysis.ipynb'\n",
       "\\item 'final\\_model.sav'\n",
       "\\item 'finalized\\_model.sav'\n",
       "\\item 'firstJava\\_hello'\n",
       "\\item 'geopandas'\n",
       "\\item 'geopandas-tutorial'\n",
       "\\item 'get-pip.py'\n",
       "\\item 'Groundwater  Quality Prediction with Sparkml.ipynb'\n",
       "\\item 'haarcascade\\_frontalface\\_default\\_xml.xml'\n",
       "\\item 'hadoop'\n",
       "\\item 'HomeObject\\_DL.ipynb'\n",
       "\\item 'image.ipynb'\n",
       "\\item 'imagedetection.py'\n",
       "\\item 'img'\n",
       "\\item 'index'\n",
       "\\item 'index.html'\n",
       "\\item 'index.js'\n",
       "\\item 'intro\\_geo\\_1.ipynb'\n",
       "\\item 'intro\\_geo1.ipynb'\n",
       "\\item 'Jesus\\_blog'\n",
       "\\item 'json.zip'\n",
       "\\item 'JsonCV'\n",
       "\\item 'Jupyter Notebook (Anaconda3).lnk'\n",
       "\\item 'kibana-7.6.1'\n",
       "\\item 'leaflet\\_plotly\\_shiny.html'\n",
       "\\item 'Links'\n",
       "\\item 'Local Settings'\n",
       "\\item 'logstash'\n",
       "\\item 'LSTM multi-step time series forecasting of household power consumption..ipynb'\n",
       "\\item 'machine learning scikit.ipynb'\n",
       "\\item 'Machine Learning with Spark.ipynb'\n",
       "\\item 'Mask\\_RCNN-master'\n",
       "\\item 'mask\\_rcnn\\_coco.h5'\n",
       "\\item 'mask\\_rcnn\\_coco.hy'\n",
       "\\item 'maskrcnn\\_config20200114T1111'\n",
       "\\item 'maskrcnn\\_config20200114T1146'\n",
       "\\item 'maskrcnn\\_config20200114T1321'\n",
       "\\item 'maskrcnn\\_config20200114T1328'\n",
       "\\item 'Mental\\_emotion\\_sentiment\\_classification.ipynb'\n",
       "\\item 'metricbeat'\n",
       "\\item 'Microsoft'\n",
       "\\item 'MicrosoftEdgeBackups'\n",
       "\\item 'miktex-console.lock'\n",
       "\\item 'model.h5'\n",
       "\\item 'model\\_evaluation\\_utils.py'\n",
       "\\item 'models'\n",
       "\\item 'Monday\\_loss.ipynb'\n",
       "\\item 'MongoDB\\_R\\_Python.html'\n",
       "\\item 'Music'\n",
       "\\item 'My Documents'\n",
       "\\item 'myfile.py'\n",
       "\\item 'NetHood'\n",
       "\\item 'New-Jersey-Air-Quality-Prediction'\n",
       "\\item 'new 1'\n",
       "\\item 'new Jerse Air Pollution.ipynb'\n",
       "\\item 'news.csv'\n",
       "\\item 'nga\\_z\\_artists.py'\n",
       "\\item 'nlp\\_hotel review.ipynb'\n",
       "\\item 'node\\_modules'\n",
       "\\item 'notebook.ipynb'\n",
       "\\item 'notebook\\_leaf.ipynb'\n",
       "\\item 'notebook\\_leaf.R'\n",
       "\\item 'notebook\\_mongo.ipynb'\n",
       "\\item 'NTUSER.DAT'\n",
       "\\item 'ntuser.dat.LOG1'\n",
       "\\item 'ntuser.dat.LOG2'\n",
       "\\item 'NTUSER.DAT\\{fd9a35db-49fe-11e9-aa2c-248a07783950\\}.TM.blf'\n",
       "\\item 'NTUSER.DAT\\{fd9a35db-49fe-11e9-aa2c-248a07783950\\}.TMContainer00000000000000000001.regtrans-ms'\n",
       "\\item 'NTUSER.DAT\\{fd9a35db-49fe-11e9-aa2c-248a07783950\\}.TMContainer00000000000000000002.regtrans-ms'\n",
       "\\item 'ntuser.ini'\n",
       "\\item 'OMG.ipynb'\n",
       "\\item 'OneDrive'\n",
       "\\item 'opencv'\n",
       "\\item 'opencv\\_contrib'\n",
       "\\item 'osgeo4w'\n",
       "\\item 'pickle\\_model.pkl'\n",
       "\\item 'Pickle\\_RL\\_Model.pkl'\n",
       "\\item 'Pictures'\n",
       "\\item 'Pipfile'\n",
       "\\item 'Pipfile.lock'\n",
       "\\item 'Pizza-Team'\n",
       "\\item 'please.ipynb'\n",
       "\\item 'PrintHood'\n",
       "\\item 'protobuf-3.4.0'\n",
       "\\item 'public'\n",
       "\\item 'PycharmProjects'\n",
       "\\item 'quran.txt'\n",
       "\\item 'R'\n",
       "\\item 'Rasa.py'\n",
       "\\item 'Recent'\n",
       "\\item 'RegularizedLogisticRegression.rda'\n",
       "\\item 'requirement.txt'\n",
       "\\item 'resume.html'\n",
       "\\item 'resume.pdf'\n",
       "\\item 'right.wav'\n",
       "\\item 'sample.py'\n",
       "\\item 'Saved Games'\n",
       "\\item 'scr'\n",
       "\\item 'scrab.py'\n",
       "\\item 'Searches'\n",
       "\\item 'Segments'\n",
       "\\item 'SendTo'\n",
       "\\item 'sentiment analysis of news article.ipynb'\n",
       "\\item 'server\\_metrics.tar.gz'\n",
       "\\item 'Shiny\\_logistic\\_regression.ipynb'\n",
       "\\item 'Smart Chatbot - Build The Dataset.ipynb'\n",
       "\\item 'source'\n",
       "\\item 'Spark'\n",
       "\\item 'spark\\_bible.ipynb'\n",
       "\\item 'Speech Recognition.ipynb'\n",
       "\\item 'stanfordnlp\\_resources'\n",
       "\\item 'Start Menu'\n",
       "\\item 'startbootstrap-resume-master'\n",
       "\\item 'Templates'\n",
       "\\item 'test\\_data.csv'\n",
       "\\item 'test1.jpg'\n",
       "\\item 'test2.jpg'\n",
       "\\item 'test20200114T1911'\n",
       "\\item 'testing\\_set'\n",
       "\\item 'train.csv'\n",
       "\\item 'training\\_set'\n",
       "\\item 'tricky\\_crack\\_html.ipynb'\n",
       "\\item 'Untitled.ipynb'\n",
       "\\item 'Untitled1.ipynb'\n",
       "\\item 'Untitled10.ipynb'\n",
       "\\item 'Untitled100.ipynb'\n",
       "\\item 'Untitled101.ipynb'\n",
       "\\item 'Untitled102.ipynb'\n",
       "\\item 'Untitled103.ipynb'\n",
       "\\item 'Untitled104.ipynb'\n",
       "\\item 'Untitled105.ipynb'\n",
       "\\item 'Untitled106.ipynb'\n",
       "\\item 'Untitled107.ipynb'\n",
       "\\item 'Untitled108.ipynb'\n",
       "\\item 'Untitled109.ipynb'\n",
       "\\item 'Untitled11.ipynb'\n",
       "\\item 'Untitled111.ipynb'\n",
       "\\item 'Untitled112.ipynb'\n",
       "\\item 'Untitled114.ipynb'\n",
       "\\item 'Untitled12.ipynb'\n",
       "\\item 'Untitled13.ipynb'\n",
       "\\item 'Untitled14.ipynb'\n",
       "\\item 'Untitled15.ipynb'\n",
       "\\item 'Untitled16.ipynb'\n",
       "\\item 'Untitled17.ipynb'\n",
       "\\item 'Untitled18.ipynb'\n",
       "\\item 'Untitled19.ipynb'\n",
       "\\item 'Untitled2.ipynb'\n",
       "\\item 'Untitled20.ipynb'\n",
       "\\item 'Untitled21.ipynb'\n",
       "\\item 'Untitled22.ipynb'\n",
       "\\item 'Untitled23.ipynb'\n",
       "\\item 'Untitled24.ipynb'\n",
       "\\item 'Untitled25.ipynb'\n",
       "\\item 'Untitled26.ipynb'\n",
       "\\item 'Untitled27.ipynb'\n",
       "\\item 'Untitled28.ipynb'\n",
       "\\item 'Untitled29.ipynb'\n",
       "\\item 'Untitled3.ipynb'\n",
       "\\item 'Untitled30.ipynb'\n",
       "\\item 'Untitled31.ipynb'\n",
       "\\item 'Untitled32.ipynb'\n",
       "\\item 'Untitled33.ipynb'\n",
       "\\item 'Untitled34.ipynb'\n",
       "\\item 'Untitled35.ipynb'\n",
       "\\item 'Untitled36.ipynb'\n",
       "\\item 'Untitled37.ipynb'\n",
       "\\item 'Untitled38.ipynb'\n",
       "\\item 'Untitled39.ipynb'\n",
       "\\item 'Untitled4.ipynb'\n",
       "\\item 'Untitled40.ipynb'\n",
       "\\item 'Untitled41.ipynb'\n",
       "\\item 'Untitled42.ipynb'\n",
       "\\item 'Untitled43.ipynb'\n",
       "\\item 'Untitled44.ipynb'\n",
       "\\item 'Untitled45.ipynb'\n",
       "\\item 'Untitled46.ipynb'\n",
       "\\item 'Untitled47.ipynb'\n",
       "\\item 'Untitled48.ipynb'\n",
       "\\item 'Untitled49.ipynb'\n",
       "\\item 'Untitled5.ipynb'\n",
       "\\item 'Untitled50.ipynb'\n",
       "\\item 'Untitled51.ipynb'\n",
       "\\item 'Untitled52.ipynb'\n",
       "\\item 'Untitled53.ipynb'\n",
       "\\item 'Untitled54.ipynb'\n",
       "\\item 'Untitled55.ipynb'\n",
       "\\item 'Untitled56.ipynb'\n",
       "\\item 'Untitled57.ipynb'\n",
       "\\item 'Untitled58.ipynb'\n",
       "\\item 'Untitled59.ipynb'\n",
       "\\item 'Untitled6.ipynb'\n",
       "\\item 'Untitled60.ipynb'\n",
       "\\item 'Untitled61.ipynb'\n",
       "\\item 'Untitled62.ipynb'\n",
       "\\item 'Untitled63.ipynb'\n",
       "\\item 'Untitled64.ipynb'\n",
       "\\item 'Untitled65.ipynb'\n",
       "\\item 'Untitled66.ipynb'\n",
       "\\item 'Untitled67.ipynb'\n",
       "\\item 'Untitled68.ipynb'\n",
       "\\item 'Untitled69.ipynb'\n",
       "\\item 'Untitled7.ipynb'\n",
       "\\item 'Untitled70.ipynb'\n",
       "\\item 'Untitled71.ipynb'\n",
       "\\item 'Untitled72.ipynb'\n",
       "\\item 'Untitled73.ipynb'\n",
       "\\item 'Untitled74.ipynb'\n",
       "\\item 'Untitled75.ipynb'\n",
       "\\item 'Untitled76.ipynb'\n",
       "\\item 'Untitled77.ipynb'\n",
       "\\item 'Untitled78.ipynb'\n",
       "\\item 'Untitled79.ipynb'\n",
       "\\item 'Untitled8.ipynb'\n",
       "\\item 'Untitled80.ipynb'\n",
       "\\item 'Untitled81.ipynb'\n",
       "\\item 'Untitled82.ipynb'\n",
       "\\item 'Untitled83.ipynb'\n",
       "\\item 'Untitled84.ipynb'\n",
       "\\item 'Untitled85.ipynb'\n",
       "\\item 'Untitled86.ipynb'\n",
       "\\item 'Untitled87.ipynb'\n",
       "\\item 'Untitled88.ipynb'\n",
       "\\item 'Untitled89.ipynb'\n",
       "\\item 'Untitled9.ipynb'\n",
       "\\item 'Untitled90.ipynb'\n",
       "\\item 'Untitled91.ipynb'\n",
       "\\item 'Untitled92.ipynb'\n",
       "\\item 'Untitled93.ipynb'\n",
       "\\item 'Untitled94.ipynb'\n",
       "\\item 'Untitled95.ipynb'\n",
       "\\item 'Untitled96.ipynb'\n",
       "\\item 'Untitled97.ipynb'\n",
       "\\item 'Untitled98.ipynb'\n",
       "\\item 'Untitled99.ipynb'\n",
       "\\item 'venv'\n",
       "\\item 'Videos'\n",
       "\\item 'VirtualBox VMs'\n",
       "\\item 'Web'\n",
       "\\item 'Word\\_frequency\\_distribution\\_analysis.ipynb'\n",
       "\\item 'WpfApp1'\n",
       "\\item 'yes.wav'\n",
       "\\item 'z-artist-names.csv'\n",
       "\\end{enumerate*}\n"
      ],
      "text/markdown": [
       "1. '-Customer-Segmentation-Analysis-using-unsupervised-learning-in-Retail-Sectors-'\n",
       "2. '__pycache__'\n",
       "3. '3D Objects'\n",
       "4. 'anaco'\n",
       "5. 'anaconda3'\n",
       "6. 'Anomaly Detection.ipynb'\n",
       "7. 'ap.py'\n",
       "8. 'App Rate Prediction.ipynb'\n",
       "9. 'App.py'\n",
       "10. 'AppData'\n",
       "11. 'Apple'\n",
       "12. 'Application Data'\n",
       "13. 'Ashenafi'\n",
       "14. 'ashenafig'\n",
       "15. 'ashj'\n",
       "16. 'auto_delete.log'\n",
       "17. 'auto_delete.py'\n",
       "18. 'AWS.ipynb'\n",
       "19. 'AWS_RDS_R_Python.html'\n",
       "20. 'AWS_RDS_R_Python.ipynb'\n",
       "21. 'awsAshuuuu-Copy1.ipynb'\n",
       "22. 'awsAshuuuu.ipynb'\n",
       "23. 'beautifulsoup.ipynb'\n",
       "24. 'bible.txt'\n",
       "25. 'bible_frequency analysis.ipynb'\n",
       "26. 'bot'\n",
       "27. 'car.py'\n",
       "28. 'Chicago_crime.ipynb'\n",
       "29. 'cmake'\n",
       "30. 'cocoapi'\n",
       "31. 'columbia.py'\n",
       "32. 'Contacts'\n",
       "33. 'contractions.py'\n",
       "34. 'Cookies'\n",
       "35. 'corenlp_server-b70818ebd1674ff0.props'\n",
       "36. 'Covera_exercise.ipynb'\n",
       "37. 'Crimes_-_2001_to_Present.csv'\n",
       "38. 'curl-7.69.1-win64-mingw'\n",
       "39. 'Customer Segmentation.ipynb'\n",
       "40. 'data1.RData'\n",
       "41. 'data2.RData'\n",
       "42. 'Dataset preparation.ipynb'\n",
       "43. 'Deep Learning'\n",
       "44. 'Desktop'\n",
       "45. 'detection.py'\n",
       "46. 'Dev'\n",
       "47. 'Documents'\n",
       "48. 'downloader.zip'\n",
       "49. 'Downloads'\n",
       "50. 'drug-label-0001-of-0009.json'\n",
       "51. 'drug-label-0002-of-0009.json'\n",
       "52. 'drug-label-0003-of-0009.json'\n",
       "53. 'drug-label-0004-of-0009.json'\n",
       "54. 'drug-label-0005-of-0009.json'\n",
       "55. 'drug-label-0006-of-0009.json'\n",
       "56. 'drug-label-0007-of-0009.json'\n",
       "57. 'drug-label-0008-of-0009.json'\n",
       "58. 'drug-label-0009-of-0009.json'\n",
       "59. 'drugLabelj.ipynb'\n",
       "60. 'E- commerce Customer Segmentation_final.ipynb'\n",
       "61. 'elasticsearch-7.6.1'\n",
       "62. 'env'\n",
       "63. 'Equipment installation app.ipynb'\n",
       "64. 'ex2data2.txt'\n",
       "65. 'Favorites'\n",
       "66. 'filename.pkl'\n",
       "67. 'files'\n",
       "68. 'Final Assignment_1.ipynb'\n",
       "69. 'final_Bible_Quran_Analysis.ipynb'\n",
       "70. 'final_model.sav'\n",
       "71. 'finalized_model.sav'\n",
       "72. 'firstJava_hello'\n",
       "73. 'geopandas'\n",
       "74. 'geopandas-tutorial'\n",
       "75. 'get-pip.py'\n",
       "76. <span style=white-space:pre-wrap>'Groundwater  Quality Prediction with Sparkml.ipynb'</span>\n",
       "77. 'haarcascade_frontalface_default_xml.xml'\n",
       "78. 'hadoop'\n",
       "79. 'HomeObject_DL.ipynb'\n",
       "80. 'image.ipynb'\n",
       "81. 'imagedetection.py'\n",
       "82. 'img'\n",
       "83. 'index'\n",
       "84. 'index.html'\n",
       "85. 'index.js'\n",
       "86. 'intro_geo_1.ipynb'\n",
       "87. 'intro_geo1.ipynb'\n",
       "88. 'Jesus_blog'\n",
       "89. 'json.zip'\n",
       "90. 'JsonCV'\n",
       "91. 'Jupyter Notebook (Anaconda3).lnk'\n",
       "92. 'kibana-7.6.1'\n",
       "93. 'leaflet_plotly_shiny.html'\n",
       "94. 'Links'\n",
       "95. 'Local Settings'\n",
       "96. 'logstash'\n",
       "97. 'LSTM multi-step time series forecasting of household power consumption..ipynb'\n",
       "98. 'machine learning scikit.ipynb'\n",
       "99. 'Machine Learning with Spark.ipynb'\n",
       "100. 'Mask_RCNN-master'\n",
       "101. 'mask_rcnn_coco.h5'\n",
       "102. 'mask_rcnn_coco.hy'\n",
       "103. 'maskrcnn_config20200114T1111'\n",
       "104. 'maskrcnn_config20200114T1146'\n",
       "105. 'maskrcnn_config20200114T1321'\n",
       "106. 'maskrcnn_config20200114T1328'\n",
       "107. 'Mental_emotion_sentiment_classification.ipynb'\n",
       "108. 'metricbeat'\n",
       "109. 'Microsoft'\n",
       "110. 'MicrosoftEdgeBackups'\n",
       "111. 'miktex-console.lock'\n",
       "112. 'model.h5'\n",
       "113. 'model_evaluation_utils.py'\n",
       "114. 'models'\n",
       "115. 'Monday_loss.ipynb'\n",
       "116. 'MongoDB_R_Python.html'\n",
       "117. 'Music'\n",
       "118. 'My Documents'\n",
       "119. 'myfile.py'\n",
       "120. 'NetHood'\n",
       "121. 'New-Jersey-Air-Quality-Prediction'\n",
       "122. 'new 1'\n",
       "123. 'new Jerse Air Pollution.ipynb'\n",
       "124. 'news.csv'\n",
       "125. 'nga_z_artists.py'\n",
       "126. 'nlp_hotel review.ipynb'\n",
       "127. 'node_modules'\n",
       "128. 'notebook.ipynb'\n",
       "129. 'notebook_leaf.ipynb'\n",
       "130. 'notebook_leaf.R'\n",
       "131. 'notebook_mongo.ipynb'\n",
       "132. 'NTUSER.DAT'\n",
       "133. 'ntuser.dat.LOG1'\n",
       "134. 'ntuser.dat.LOG2'\n",
       "135. 'NTUSER.DAT{fd9a35db-49fe-11e9-aa2c-248a07783950}.TM.blf'\n",
       "136. 'NTUSER.DAT{fd9a35db-49fe-11e9-aa2c-248a07783950}.TMContainer00000000000000000001.regtrans-ms'\n",
       "137. 'NTUSER.DAT{fd9a35db-49fe-11e9-aa2c-248a07783950}.TMContainer00000000000000000002.regtrans-ms'\n",
       "138. 'ntuser.ini'\n",
       "139. 'OMG.ipynb'\n",
       "140. 'OneDrive'\n",
       "141. 'opencv'\n",
       "142. 'opencv_contrib'\n",
       "143. 'osgeo4w'\n",
       "144. 'pickle_model.pkl'\n",
       "145. 'Pickle_RL_Model.pkl'\n",
       "146. 'Pictures'\n",
       "147. 'Pipfile'\n",
       "148. 'Pipfile.lock'\n",
       "149. 'Pizza-Team'\n",
       "150. 'please.ipynb'\n",
       "151. 'PrintHood'\n",
       "152. 'protobuf-3.4.0'\n",
       "153. 'public'\n",
       "154. 'PycharmProjects'\n",
       "155. 'quran.txt'\n",
       "156. 'R'\n",
       "157. 'Rasa.py'\n",
       "158. 'Recent'\n",
       "159. 'RegularizedLogisticRegression.rda'\n",
       "160. 'requirement.txt'\n",
       "161. 'resume.html'\n",
       "162. 'resume.pdf'\n",
       "163. 'right.wav'\n",
       "164. 'sample.py'\n",
       "165. 'Saved Games'\n",
       "166. 'scr'\n",
       "167. 'scrab.py'\n",
       "168. 'Searches'\n",
       "169. 'Segments'\n",
       "170. 'SendTo'\n",
       "171. 'sentiment analysis of news article.ipynb'\n",
       "172. 'server_metrics.tar.gz'\n",
       "173. 'Shiny_logistic_regression.ipynb'\n",
       "174. 'Smart Chatbot - Build The Dataset.ipynb'\n",
       "175. 'source'\n",
       "176. 'Spark'\n",
       "177. 'spark_bible.ipynb'\n",
       "178. 'Speech Recognition.ipynb'\n",
       "179. 'stanfordnlp_resources'\n",
       "180. 'Start Menu'\n",
       "181. 'startbootstrap-resume-master'\n",
       "182. 'Templates'\n",
       "183. 'test_data.csv'\n",
       "184. 'test1.jpg'\n",
       "185. 'test2.jpg'\n",
       "186. 'test20200114T1911'\n",
       "187. 'testing_set'\n",
       "188. 'train.csv'\n",
       "189. 'training_set'\n",
       "190. 'tricky_crack_html.ipynb'\n",
       "191. 'Untitled.ipynb'\n",
       "192. 'Untitled1.ipynb'\n",
       "193. 'Untitled10.ipynb'\n",
       "194. 'Untitled100.ipynb'\n",
       "195. 'Untitled101.ipynb'\n",
       "196. 'Untitled102.ipynb'\n",
       "197. 'Untitled103.ipynb'\n",
       "198. 'Untitled104.ipynb'\n",
       "199. 'Untitled105.ipynb'\n",
       "200. 'Untitled106.ipynb'\n",
       "201. 'Untitled107.ipynb'\n",
       "202. 'Untitled108.ipynb'\n",
       "203. 'Untitled109.ipynb'\n",
       "204. 'Untitled11.ipynb'\n",
       "205. 'Untitled111.ipynb'\n",
       "206. 'Untitled112.ipynb'\n",
       "207. 'Untitled114.ipynb'\n",
       "208. 'Untitled12.ipynb'\n",
       "209. 'Untitled13.ipynb'\n",
       "210. 'Untitled14.ipynb'\n",
       "211. 'Untitled15.ipynb'\n",
       "212. 'Untitled16.ipynb'\n",
       "213. 'Untitled17.ipynb'\n",
       "214. 'Untitled18.ipynb'\n",
       "215. 'Untitled19.ipynb'\n",
       "216. 'Untitled2.ipynb'\n",
       "217. 'Untitled20.ipynb'\n",
       "218. 'Untitled21.ipynb'\n",
       "219. 'Untitled22.ipynb'\n",
       "220. 'Untitled23.ipynb'\n",
       "221. 'Untitled24.ipynb'\n",
       "222. 'Untitled25.ipynb'\n",
       "223. 'Untitled26.ipynb'\n",
       "224. 'Untitled27.ipynb'\n",
       "225. 'Untitled28.ipynb'\n",
       "226. 'Untitled29.ipynb'\n",
       "227. 'Untitled3.ipynb'\n",
       "228. 'Untitled30.ipynb'\n",
       "229. 'Untitled31.ipynb'\n",
       "230. 'Untitled32.ipynb'\n",
       "231. 'Untitled33.ipynb'\n",
       "232. 'Untitled34.ipynb'\n",
       "233. 'Untitled35.ipynb'\n",
       "234. 'Untitled36.ipynb'\n",
       "235. 'Untitled37.ipynb'\n",
       "236. 'Untitled38.ipynb'\n",
       "237. 'Untitled39.ipynb'\n",
       "238. 'Untitled4.ipynb'\n",
       "239. 'Untitled40.ipynb'\n",
       "240. 'Untitled41.ipynb'\n",
       "241. 'Untitled42.ipynb'\n",
       "242. 'Untitled43.ipynb'\n",
       "243. 'Untitled44.ipynb'\n",
       "244. 'Untitled45.ipynb'\n",
       "245. 'Untitled46.ipynb'\n",
       "246. 'Untitled47.ipynb'\n",
       "247. 'Untitled48.ipynb'\n",
       "248. 'Untitled49.ipynb'\n",
       "249. 'Untitled5.ipynb'\n",
       "250. 'Untitled50.ipynb'\n",
       "251. 'Untitled51.ipynb'\n",
       "252. 'Untitled52.ipynb'\n",
       "253. 'Untitled53.ipynb'\n",
       "254. 'Untitled54.ipynb'\n",
       "255. 'Untitled55.ipynb'\n",
       "256. 'Untitled56.ipynb'\n",
       "257. 'Untitled57.ipynb'\n",
       "258. 'Untitled58.ipynb'\n",
       "259. 'Untitled59.ipynb'\n",
       "260. 'Untitled6.ipynb'\n",
       "261. 'Untitled60.ipynb'\n",
       "262. 'Untitled61.ipynb'\n",
       "263. 'Untitled62.ipynb'\n",
       "264. 'Untitled63.ipynb'\n",
       "265. 'Untitled64.ipynb'\n",
       "266. 'Untitled65.ipynb'\n",
       "267. 'Untitled66.ipynb'\n",
       "268. 'Untitled67.ipynb'\n",
       "269. 'Untitled68.ipynb'\n",
       "270. 'Untitled69.ipynb'\n",
       "271. 'Untitled7.ipynb'\n",
       "272. 'Untitled70.ipynb'\n",
       "273. 'Untitled71.ipynb'\n",
       "274. 'Untitled72.ipynb'\n",
       "275. 'Untitled73.ipynb'\n",
       "276. 'Untitled74.ipynb'\n",
       "277. 'Untitled75.ipynb'\n",
       "278. 'Untitled76.ipynb'\n",
       "279. 'Untitled77.ipynb'\n",
       "280. 'Untitled78.ipynb'\n",
       "281. 'Untitled79.ipynb'\n",
       "282. 'Untitled8.ipynb'\n",
       "283. 'Untitled80.ipynb'\n",
       "284. 'Untitled81.ipynb'\n",
       "285. 'Untitled82.ipynb'\n",
       "286. 'Untitled83.ipynb'\n",
       "287. 'Untitled84.ipynb'\n",
       "288. 'Untitled85.ipynb'\n",
       "289. 'Untitled86.ipynb'\n",
       "290. 'Untitled87.ipynb'\n",
       "291. 'Untitled88.ipynb'\n",
       "292. 'Untitled89.ipynb'\n",
       "293. 'Untitled9.ipynb'\n",
       "294. 'Untitled90.ipynb'\n",
       "295. 'Untitled91.ipynb'\n",
       "296. 'Untitled92.ipynb'\n",
       "297. 'Untitled93.ipynb'\n",
       "298. 'Untitled94.ipynb'\n",
       "299. 'Untitled95.ipynb'\n",
       "300. 'Untitled96.ipynb'\n",
       "301. 'Untitled97.ipynb'\n",
       "302. 'Untitled98.ipynb'\n",
       "303. 'Untitled99.ipynb'\n",
       "304. 'venv'\n",
       "305. 'Videos'\n",
       "306. 'VirtualBox VMs'\n",
       "307. 'Web'\n",
       "308. 'Word_frequency_distribution_analysis.ipynb'\n",
       "309. 'WpfApp1'\n",
       "310. 'yes.wav'\n",
       "311. 'z-artist-names.csv'\n",
       "\n",
       "\n"
      ],
      "text/plain": [
       "  [1] \"-Customer-Segmentation-Analysis-using-unsupervised-learning-in-Retail-Sectors-\"              \n",
       "  [2] \"__pycache__\"                                                                                 \n",
       "  [3] \"3D Objects\"                                                                                  \n",
       "  [4] \"anaco\"                                                                                       \n",
       "  [5] \"anaconda3\"                                                                                   \n",
       "  [6] \"Anomaly Detection.ipynb\"                                                                     \n",
       "  [7] \"ap.py\"                                                                                       \n",
       "  [8] \"App Rate Prediction.ipynb\"                                                                   \n",
       "  [9] \"App.py\"                                                                                      \n",
       " [10] \"AppData\"                                                                                     \n",
       " [11] \"Apple\"                                                                                       \n",
       " [12] \"Application Data\"                                                                            \n",
       " [13] \"Ashenafi\"                                                                                    \n",
       " [14] \"ashenafig\"                                                                                   \n",
       " [15] \"ashj\"                                                                                        \n",
       " [16] \"auto_delete.log\"                                                                             \n",
       " [17] \"auto_delete.py\"                                                                              \n",
       " [18] \"AWS.ipynb\"                                                                                   \n",
       " [19] \"AWS_RDS_R_Python.html\"                                                                       \n",
       " [20] \"AWS_RDS_R_Python.ipynb\"                                                                      \n",
       " [21] \"awsAshuuuu-Copy1.ipynb\"                                                                      \n",
       " [22] \"awsAshuuuu.ipynb\"                                                                            \n",
       " [23] \"beautifulsoup.ipynb\"                                                                         \n",
       " [24] \"bible.txt\"                                                                                   \n",
       " [25] \"bible_frequency analysis.ipynb\"                                                              \n",
       " [26] \"bot\"                                                                                         \n",
       " [27] \"car.py\"                                                                                      \n",
       " [28] \"Chicago_crime.ipynb\"                                                                         \n",
       " [29] \"cmake\"                                                                                       \n",
       " [30] \"cocoapi\"                                                                                     \n",
       " [31] \"columbia.py\"                                                                                 \n",
       " [32] \"Contacts\"                                                                                    \n",
       " [33] \"contractions.py\"                                                                             \n",
       " [34] \"Cookies\"                                                                                     \n",
       " [35] \"corenlp_server-b70818ebd1674ff0.props\"                                                       \n",
       " [36] \"Covera_exercise.ipynb\"                                                                       \n",
       " [37] \"Crimes_-_2001_to_Present.csv\"                                                                \n",
       " [38] \"curl-7.69.1-win64-mingw\"                                                                     \n",
       " [39] \"Customer Segmentation.ipynb\"                                                                 \n",
       " [40] \"data1.RData\"                                                                                 \n",
       " [41] \"data2.RData\"                                                                                 \n",
       " [42] \"Dataset preparation.ipynb\"                                                                   \n",
       " [43] \"Deep Learning\"                                                                               \n",
       " [44] \"Desktop\"                                                                                     \n",
       " [45] \"detection.py\"                                                                                \n",
       " [46] \"Dev\"                                                                                         \n",
       " [47] \"Documents\"                                                                                   \n",
       " [48] \"downloader.zip\"                                                                              \n",
       " [49] \"Downloads\"                                                                                   \n",
       " [50] \"drug-label-0001-of-0009.json\"                                                                \n",
       " [51] \"drug-label-0002-of-0009.json\"                                                                \n",
       " [52] \"drug-label-0003-of-0009.json\"                                                                \n",
       " [53] \"drug-label-0004-of-0009.json\"                                                                \n",
       " [54] \"drug-label-0005-of-0009.json\"                                                                \n",
       " [55] \"drug-label-0006-of-0009.json\"                                                                \n",
       " [56] \"drug-label-0007-of-0009.json\"                                                                \n",
       " [57] \"drug-label-0008-of-0009.json\"                                                                \n",
       " [58] \"drug-label-0009-of-0009.json\"                                                                \n",
       " [59] \"drugLabelj.ipynb\"                                                                            \n",
       " [60] \"E- commerce Customer Segmentation_final.ipynb\"                                               \n",
       " [61] \"elasticsearch-7.6.1\"                                                                         \n",
       " [62] \"env\"                                                                                         \n",
       " [63] \"Equipment installation app.ipynb\"                                                            \n",
       " [64] \"ex2data2.txt\"                                                                                \n",
       " [65] \"Favorites\"                                                                                   \n",
       " [66] \"filename.pkl\"                                                                                \n",
       " [67] \"files\"                                                                                       \n",
       " [68] \"Final Assignment_1.ipynb\"                                                                    \n",
       " [69] \"final_Bible_Quran_Analysis.ipynb\"                                                            \n",
       " [70] \"final_model.sav\"                                                                             \n",
       " [71] \"finalized_model.sav\"                                                                         \n",
       " [72] \"firstJava_hello\"                                                                             \n",
       " [73] \"geopandas\"                                                                                   \n",
       " [74] \"geopandas-tutorial\"                                                                          \n",
       " [75] \"get-pip.py\"                                                                                  \n",
       " [76] \"Groundwater  Quality Prediction with Sparkml.ipynb\"                                          \n",
       " [77] \"haarcascade_frontalface_default_xml.xml\"                                                     \n",
       " [78] \"hadoop\"                                                                                      \n",
       " [79] \"HomeObject_DL.ipynb\"                                                                         \n",
       " [80] \"image.ipynb\"                                                                                 \n",
       " [81] \"imagedetection.py\"                                                                           \n",
       " [82] \"img\"                                                                                         \n",
       " [83] \"index\"                                                                                       \n",
       " [84] \"index.html\"                                                                                  \n",
       " [85] \"index.js\"                                                                                    \n",
       " [86] \"intro_geo_1.ipynb\"                                                                           \n",
       " [87] \"intro_geo1.ipynb\"                                                                            \n",
       " [88] \"Jesus_blog\"                                                                                  \n",
       " [89] \"json.zip\"                                                                                    \n",
       " [90] \"JsonCV\"                                                                                      \n",
       " [91] \"Jupyter Notebook (Anaconda3).lnk\"                                                            \n",
       " [92] \"kibana-7.6.1\"                                                                                \n",
       " [93] \"leaflet_plotly_shiny.html\"                                                                   \n",
       " [94] \"Links\"                                                                                       \n",
       " [95] \"Local Settings\"                                                                              \n",
       " [96] \"logstash\"                                                                                    \n",
       " [97] \"LSTM multi-step time series forecasting of household power consumption..ipynb\"               \n",
       " [98] \"machine learning scikit.ipynb\"                                                               \n",
       " [99] \"Machine Learning with Spark.ipynb\"                                                           \n",
       "[100] \"Mask_RCNN-master\"                                                                            \n",
       "[101] \"mask_rcnn_coco.h5\"                                                                           \n",
       "[102] \"mask_rcnn_coco.hy\"                                                                           \n",
       "[103] \"maskrcnn_config20200114T1111\"                                                                \n",
       "[104] \"maskrcnn_config20200114T1146\"                                                                \n",
       "[105] \"maskrcnn_config20200114T1321\"                                                                \n",
       "[106] \"maskrcnn_config20200114T1328\"                                                                \n",
       "[107] \"Mental_emotion_sentiment_classification.ipynb\"                                               \n",
       "[108] \"metricbeat\"                                                                                  \n",
       "[109] \"Microsoft\"                                                                                   \n",
       "[110] \"MicrosoftEdgeBackups\"                                                                        \n",
       "[111] \"miktex-console.lock\"                                                                         \n",
       "[112] \"model.h5\"                                                                                    \n",
       "[113] \"model_evaluation_utils.py\"                                                                   \n",
       "[114] \"models\"                                                                                      \n",
       "[115] \"Monday_loss.ipynb\"                                                                           \n",
       "[116] \"MongoDB_R_Python.html\"                                                                       \n",
       "[117] \"Music\"                                                                                       \n",
       "[118] \"My Documents\"                                                                                \n",
       "[119] \"myfile.py\"                                                                                   \n",
       "[120] \"NetHood\"                                                                                     \n",
       "[121] \"New-Jersey-Air-Quality-Prediction\"                                                           \n",
       "[122] \"new 1\"                                                                                       \n",
       "[123] \"new Jerse Air Pollution.ipynb\"                                                               \n",
       "[124] \"news.csv\"                                                                                    \n",
       "[125] \"nga_z_artists.py\"                                                                            \n",
       "[126] \"nlp_hotel review.ipynb\"                                                                      \n",
       "[127] \"node_modules\"                                                                                \n",
       "[128] \"notebook.ipynb\"                                                                              \n",
       "[129] \"notebook_leaf.ipynb\"                                                                         \n",
       "[130] \"notebook_leaf.R\"                                                                             \n",
       "[131] \"notebook_mongo.ipynb\"                                                                        \n",
       "[132] \"NTUSER.DAT\"                                                                                  \n",
       "[133] \"ntuser.dat.LOG1\"                                                                             \n",
       "[134] \"ntuser.dat.LOG2\"                                                                             \n",
       "[135] \"NTUSER.DAT{fd9a35db-49fe-11e9-aa2c-248a07783950}.TM.blf\"                                     \n",
       "[136] \"NTUSER.DAT{fd9a35db-49fe-11e9-aa2c-248a07783950}.TMContainer00000000000000000001.regtrans-ms\"\n",
       "[137] \"NTUSER.DAT{fd9a35db-49fe-11e9-aa2c-248a07783950}.TMContainer00000000000000000002.regtrans-ms\"\n",
       "[138] \"ntuser.ini\"                                                                                  \n",
       "[139] \"OMG.ipynb\"                                                                                   \n",
       "[140] \"OneDrive\"                                                                                    \n",
       "[141] \"opencv\"                                                                                      \n",
       "[142] \"opencv_contrib\"                                                                              \n",
       "[143] \"osgeo4w\"                                                                                     \n",
       "[144] \"pickle_model.pkl\"                                                                            \n",
       "[145] \"Pickle_RL_Model.pkl\"                                                                         \n",
       "[146] \"Pictures\"                                                                                    \n",
       "[147] \"Pipfile\"                                                                                     \n",
       "[148] \"Pipfile.lock\"                                                                                \n",
       "[149] \"Pizza-Team\"                                                                                  \n",
       "[150] \"please.ipynb\"                                                                                \n",
       "[151] \"PrintHood\"                                                                                   \n",
       "[152] \"protobuf-3.4.0\"                                                                              \n",
       "[153] \"public\"                                                                                      \n",
       "[154] \"PycharmProjects\"                                                                             \n",
       "[155] \"quran.txt\"                                                                                   \n",
       "[156] \"R\"                                                                                           \n",
       "[157] \"Rasa.py\"                                                                                     \n",
       "[158] \"Recent\"                                                                                      \n",
       "[159] \"RegularizedLogisticRegression.rda\"                                                           \n",
       "[160] \"requirement.txt\"                                                                             \n",
       "[161] \"resume.html\"                                                                                 \n",
       "[162] \"resume.pdf\"                                                                                  \n",
       "[163] \"right.wav\"                                                                                   \n",
       "[164] \"sample.py\"                                                                                   \n",
       "[165] \"Saved Games\"                                                                                 \n",
       "[166] \"scr\"                                                                                         \n",
       "[167] \"scrab.py\"                                                                                    \n",
       "[168] \"Searches\"                                                                                    \n",
       "[169] \"Segments\"                                                                                    \n",
       "[170] \"SendTo\"                                                                                      \n",
       "[171] \"sentiment analysis of news article.ipynb\"                                                    \n",
       "[172] \"server_metrics.tar.gz\"                                                                       \n",
       "[173] \"Shiny_logistic_regression.ipynb\"                                                             \n",
       "[174] \"Smart Chatbot - Build The Dataset.ipynb\"                                                     \n",
       "[175] \"source\"                                                                                      \n",
       "[176] \"Spark\"                                                                                       \n",
       "[177] \"spark_bible.ipynb\"                                                                           \n",
       "[178] \"Speech Recognition.ipynb\"                                                                    \n",
       "[179] \"stanfordnlp_resources\"                                                                       \n",
       "[180] \"Start Menu\"                                                                                  \n",
       "[181] \"startbootstrap-resume-master\"                                                                \n",
       "[182] \"Templates\"                                                                                   \n",
       "[183] \"test_data.csv\"                                                                               \n",
       "[184] \"test1.jpg\"                                                                                   \n",
       "[185] \"test2.jpg\"                                                                                   \n",
       "[186] \"test20200114T1911\"                                                                           \n",
       "[187] \"testing_set\"                                                                                 \n",
       "[188] \"train.csv\"                                                                                   \n",
       "[189] \"training_set\"                                                                                \n",
       "[190] \"tricky_crack_html.ipynb\"                                                                     \n",
       "[191] \"Untitled.ipynb\"                                                                              \n",
       "[192] \"Untitled1.ipynb\"                                                                             \n",
       "[193] \"Untitled10.ipynb\"                                                                            \n",
       "[194] \"Untitled100.ipynb\"                                                                           \n",
       "[195] \"Untitled101.ipynb\"                                                                           \n",
       "[196] \"Untitled102.ipynb\"                                                                           \n",
       "[197] \"Untitled103.ipynb\"                                                                           \n",
       "[198] \"Untitled104.ipynb\"                                                                           \n",
       "[199] \"Untitled105.ipynb\"                                                                           \n",
       "[200] \"Untitled106.ipynb\"                                                                           \n",
       "[201] \"Untitled107.ipynb\"                                                                           \n",
       "[202] \"Untitled108.ipynb\"                                                                           \n",
       "[203] \"Untitled109.ipynb\"                                                                           \n",
       "[204] \"Untitled11.ipynb\"                                                                            \n",
       "[205] \"Untitled111.ipynb\"                                                                           \n",
       "[206] \"Untitled112.ipynb\"                                                                           \n",
       "[207] \"Untitled114.ipynb\"                                                                           \n",
       "[208] \"Untitled12.ipynb\"                                                                            \n",
       "[209] \"Untitled13.ipynb\"                                                                            \n",
       "[210] \"Untitled14.ipynb\"                                                                            \n",
       "[211] \"Untitled15.ipynb\"                                                                            \n",
       "[212] \"Untitled16.ipynb\"                                                                            \n",
       "[213] \"Untitled17.ipynb\"                                                                            \n",
       "[214] \"Untitled18.ipynb\"                                                                            \n",
       "[215] \"Untitled19.ipynb\"                                                                            \n",
       "[216] \"Untitled2.ipynb\"                                                                             \n",
       "[217] \"Untitled20.ipynb\"                                                                            \n",
       "[218] \"Untitled21.ipynb\"                                                                            \n",
       "[219] \"Untitled22.ipynb\"                                                                            \n",
       "[220] \"Untitled23.ipynb\"                                                                            \n",
       "[221] \"Untitled24.ipynb\"                                                                            \n",
       "[222] \"Untitled25.ipynb\"                                                                            \n",
       "[223] \"Untitled26.ipynb\"                                                                            \n",
       "[224] \"Untitled27.ipynb\"                                                                            \n",
       "[225] \"Untitled28.ipynb\"                                                                            \n",
       "[226] \"Untitled29.ipynb\"                                                                            \n",
       "[227] \"Untitled3.ipynb\"                                                                             \n",
       "[228] \"Untitled30.ipynb\"                                                                            \n",
       "[229] \"Untitled31.ipynb\"                                                                            \n",
       "[230] \"Untitled32.ipynb\"                                                                            \n",
       "[231] \"Untitled33.ipynb\"                                                                            \n",
       "[232] \"Untitled34.ipynb\"                                                                            \n",
       "[233] \"Untitled35.ipynb\"                                                                            \n",
       "[234] \"Untitled36.ipynb\"                                                                            \n",
       "[235] \"Untitled37.ipynb\"                                                                            \n",
       "[236] \"Untitled38.ipynb\"                                                                            \n",
       "[237] \"Untitled39.ipynb\"                                                                            \n",
       "[238] \"Untitled4.ipynb\"                                                                             \n",
       "[239] \"Untitled40.ipynb\"                                                                            \n",
       "[240] \"Untitled41.ipynb\"                                                                            \n",
       "[241] \"Untitled42.ipynb\"                                                                            \n",
       "[242] \"Untitled43.ipynb\"                                                                            \n",
       "[243] \"Untitled44.ipynb\"                                                                            \n",
       "[244] \"Untitled45.ipynb\"                                                                            \n",
       "[245] \"Untitled46.ipynb\"                                                                            \n",
       "[246] \"Untitled47.ipynb\"                                                                            \n",
       "[247] \"Untitled48.ipynb\"                                                                            \n",
       "[248] \"Untitled49.ipynb\"                                                                            \n",
       "[249] \"Untitled5.ipynb\"                                                                             \n",
       "[250] \"Untitled50.ipynb\"                                                                            \n",
       "[251] \"Untitled51.ipynb\"                                                                            \n",
       "[252] \"Untitled52.ipynb\"                                                                            \n",
       "[253] \"Untitled53.ipynb\"                                                                            \n",
       "[254] \"Untitled54.ipynb\"                                                                            \n",
       "[255] \"Untitled55.ipynb\"                                                                            \n",
       "[256] \"Untitled56.ipynb\"                                                                            \n",
       "[257] \"Untitled57.ipynb\"                                                                            \n",
       "[258] \"Untitled58.ipynb\"                                                                            \n",
       "[259] \"Untitled59.ipynb\"                                                                            \n",
       "[260] \"Untitled6.ipynb\"                                                                             \n",
       "[261] \"Untitled60.ipynb\"                                                                            \n",
       "[262] \"Untitled61.ipynb\"                                                                            \n",
       "[263] \"Untitled62.ipynb\"                                                                            \n",
       "[264] \"Untitled63.ipynb\"                                                                            \n",
       "[265] \"Untitled64.ipynb\"                                                                            \n",
       "[266] \"Untitled65.ipynb\"                                                                            \n",
       "[267] \"Untitled66.ipynb\"                                                                            \n",
       "[268] \"Untitled67.ipynb\"                                                                            \n",
       "[269] \"Untitled68.ipynb\"                                                                            \n",
       "[270] \"Untitled69.ipynb\"                                                                            \n",
       "[271] \"Untitled7.ipynb\"                                                                             \n",
       "[272] \"Untitled70.ipynb\"                                                                            \n",
       "[273] \"Untitled71.ipynb\"                                                                            \n",
       "[274] \"Untitled72.ipynb\"                                                                            \n",
       "[275] \"Untitled73.ipynb\"                                                                            \n",
       "[276] \"Untitled74.ipynb\"                                                                            \n",
       "[277] \"Untitled75.ipynb\"                                                                            \n",
       "[278] \"Untitled76.ipynb\"                                                                            \n",
       "[279] \"Untitled77.ipynb\"                                                                            \n",
       "[280] \"Untitled78.ipynb\"                                                                            \n",
       "[281] \"Untitled79.ipynb\"                                                                            \n",
       "[282] \"Untitled8.ipynb\"                                                                             \n",
       "[283] \"Untitled80.ipynb\"                                                                            \n",
       "[284] \"Untitled81.ipynb\"                                                                            \n",
       "[285] \"Untitled82.ipynb\"                                                                            \n",
       "[286] \"Untitled83.ipynb\"                                                                            \n",
       "[287] \"Untitled84.ipynb\"                                                                            \n",
       "[288] \"Untitled85.ipynb\"                                                                            \n",
       "[289] \"Untitled86.ipynb\"                                                                            \n",
       "[290] \"Untitled87.ipynb\"                                                                            \n",
       "[291] \"Untitled88.ipynb\"                                                                            \n",
       "[292] \"Untitled89.ipynb\"                                                                            \n",
       "[293] \"Untitled9.ipynb\"                                                                             \n",
       "[294] \"Untitled90.ipynb\"                                                                            \n",
       "[295] \"Untitled91.ipynb\"                                                                            \n",
       "[296] \"Untitled92.ipynb\"                                                                            \n",
       "[297] \"Untitled93.ipynb\"                                                                            \n",
       "[298] \"Untitled94.ipynb\"                                                                            \n",
       "[299] \"Untitled95.ipynb\"                                                                            \n",
       "[300] \"Untitled96.ipynb\"                                                                            \n",
       "[301] \"Untitled97.ipynb\"                                                                            \n",
       "[302] \"Untitled98.ipynb\"                                                                            \n",
       "[303] \"Untitled99.ipynb\"                                                                            \n",
       "[304] \"venv\"                                                                                        \n",
       "[305] \"Videos\"                                                                                      \n",
       "[306] \"VirtualBox VMs\"                                                                              \n",
       "[307] \"Web\"                                                                                         \n",
       "[308] \"Word_frequency_distribution_analysis.ipynb\"                                                  \n",
       "[309] \"WpfApp1\"                                                                                     \n",
       "[310] \"yes.wav\"                                                                                     \n",
       "[311] \"z-artist-names.csv\"                                                                          "
      ]
     },
     "metadata": {},
     "output_type": "display_data"
    }
   ],
   "source": [
    "dir()"
   ]
  },
  {
   "cell_type": "markdown",
   "metadata": {},
   "source": [
    "**Let's create a character vector of the names of the json files above using list.files().**"
   ]
  },
  {
   "cell_type": "code",
   "execution_count": 3,
   "metadata": {},
   "outputs": [
    {
     "data": {
      "text/html": [
       "<ol class=list-inline>\n",
       "\t<li>'./drug-label-0001-of-0009.json'</li>\n",
       "\t<li>'./drug-label-0002-of-0009.json'</li>\n",
       "\t<li>'./drug-label-0003-of-0009.json'</li>\n",
       "\t<li>'./drug-label-0004-of-0009.json'</li>\n",
       "\t<li>'./drug-label-0005-of-0009.json'</li>\n",
       "\t<li>'./drug-label-0006-of-0009.json'</li>\n",
       "\t<li>'./drug-label-0007-of-0009.json'</li>\n",
       "\t<li>'./drug-label-0008-of-0009.json'</li>\n",
       "\t<li>'./drug-label-0009-of-0009.json'</li>\n",
       "</ol>\n"
      ],
      "text/latex": [
       "\\begin{enumerate*}\n",
       "\\item './drug-label-0001-of-0009.json'\n",
       "\\item './drug-label-0002-of-0009.json'\n",
       "\\item './drug-label-0003-of-0009.json'\n",
       "\\item './drug-label-0004-of-0009.json'\n",
       "\\item './drug-label-0005-of-0009.json'\n",
       "\\item './drug-label-0006-of-0009.json'\n",
       "\\item './drug-label-0007-of-0009.json'\n",
       "\\item './drug-label-0008-of-0009.json'\n",
       "\\item './drug-label-0009-of-0009.json'\n",
       "\\end{enumerate*}\n"
      ],
      "text/markdown": [
       "1. './drug-label-0001-of-0009.json'\n",
       "2. './drug-label-0002-of-0009.json'\n",
       "3. './drug-label-0003-of-0009.json'\n",
       "4. './drug-label-0004-of-0009.json'\n",
       "5. './drug-label-0005-of-0009.json'\n",
       "6. './drug-label-0006-of-0009.json'\n",
       "7. './drug-label-0007-of-0009.json'\n",
       "8. './drug-label-0008-of-0009.json'\n",
       "9. './drug-label-0009-of-0009.json'\n",
       "\n",
       "\n"
      ],
      "text/plain": [
       "[1] \"./drug-label-0001-of-0009.json\" \"./drug-label-0002-of-0009.json\"\n",
       "[3] \"./drug-label-0003-of-0009.json\" \"./drug-label-0004-of-0009.json\"\n",
       "[5] \"./drug-label-0005-of-0009.json\" \"./drug-label-0006-of-0009.json\"\n",
       "[7] \"./drug-label-0007-of-0009.json\" \"./drug-label-0008-of-0009.json\"\n",
       "[9] \"./drug-label-0009-of-0009.json\""
      ]
     },
     "metadata": {},
     "output_type": "display_data"
    }
   ],
   "source": [
    "filenames <- list.files(pattern=\"*.json\", full.names=TRUE)\n",
    "filenames"
   ]
  },
  {
   "cell_type": "markdown",
   "metadata": {},
   "source": [
    "***Understanding the data***\n",
    "\n",
    "To read JSON data, we are using the fromJSON function from the jsonlite package.\n",
    "\n",
    "Let's read in one of the data files and understand the content."
   ]
  },
  {
   "cell_type": "code",
   "execution_count": 4,
   "metadata": {},
   "outputs": [],
   "source": [
    "drug1 = fromJSON(filenames[1])"
   ]
  },
  {
   "cell_type": "code",
   "execution_count": 5,
   "metadata": {},
   "outputs": [
    {
     "data": {
      "text/html": [
       "<ol class=list-inline>\n",
       "\t<li>'meta'</li>\n",
       "\t<li>'results'</li>\n",
       "</ol>\n"
      ],
      "text/latex": [
       "\\begin{enumerate*}\n",
       "\\item 'meta'\n",
       "\\item 'results'\n",
       "\\end{enumerate*}\n"
      ],
      "text/markdown": [
       "1. 'meta'\n",
       "2. 'results'\n",
       "\n",
       "\n"
      ],
      "text/plain": [
       "[1] \"meta\"    \"results\""
      ]
     },
     "metadata": {},
     "output_type": "display_data"
    }
   ],
   "source": [
    "names(drug1)"
   ]
  },
  {
   "cell_type": "markdown",
   "metadata": {},
   "source": [
    "**See what meta contains**"
   ]
  },
  {
   "cell_type": "code",
   "execution_count": 6,
   "metadata": {},
   "outputs": [
    {
     "data": {
      "text/html": [
       "<dl>\n",
       "\t<dt>$last_updated</dt>\n",
       "\t\t<dd>'2020-08-26'</dd>\n",
       "\t<dt>$terms</dt>\n",
       "\t\t<dd>'https://open.fda.gov/terms/'</dd>\n",
       "\t<dt>$results</dt>\n",
       "\t\t<dd><dl>\n",
       "\t<dt>$skip</dt>\n",
       "\t\t<dd>0</dd>\n",
       "\t<dt>$total</dt>\n",
       "\t\t<dd>171082</dd>\n",
       "\t<dt>$limit</dt>\n",
       "\t\t<dd>20000</dd>\n",
       "</dl>\n",
       "</dd>\n",
       "\t<dt>$license</dt>\n",
       "\t\t<dd>'https://open.fda.gov/license/'</dd>\n",
       "\t<dt>$disclaimer</dt>\n",
       "\t\t<dd>'Do not rely on openFDA to make decisions regarding medical care. While we make every effort to ensure that data is accurate, you should assume all results are unvalidated. We may limit or otherwise restrict your access to the API in line with our Terms of Service.'</dd>\n",
       "</dl>\n"
      ],
      "text/latex": [
       "\\begin{description}\n",
       "\\item[\\$last\\_updated] '2020-08-26'\n",
       "\\item[\\$terms] 'https://open.fda.gov/terms/'\n",
       "\\item[\\$results] \\begin{description}\n",
       "\\item[\\$skip] 0\n",
       "\\item[\\$total] 171082\n",
       "\\item[\\$limit] 20000\n",
       "\\end{description}\n",
       "\n",
       "\\item[\\$license] 'https://open.fda.gov/license/'\n",
       "\\item[\\$disclaimer] 'Do not rely on openFDA to make decisions regarding medical care. While we make every effort to ensure that data is accurate, you should assume all results are unvalidated. We may limit or otherwise restrict your access to the API in line with our Terms of Service.'\n",
       "\\end{description}\n"
      ],
      "text/markdown": [
       "$last_updated\n",
       ":   '2020-08-26'\n",
       "$terms\n",
       ":   'https://open.fda.gov/terms/'\n",
       "$results\n",
       ":   $skip\n",
       ":   0\n",
       "$total\n",
       ":   171082\n",
       "$limit\n",
       ":   20000\n",
       "\n",
       "\n",
       "\n",
       "$license\n",
       ":   'https://open.fda.gov/license/'\n",
       "$disclaimer\n",
       ":   'Do not rely on openFDA to make decisions regarding medical care. While we make every effort to ensure that data is accurate, you should assume all results are unvalidated. We may limit or otherwise restrict your access to the API in line with our Terms of Service.'\n",
       "\n",
       "\n"
      ],
      "text/plain": [
       "$last_updated\n",
       "[1] \"2020-08-26\"\n",
       "\n",
       "$terms\n",
       "[1] \"https://open.fda.gov/terms/\"\n",
       "\n",
       "$results\n",
       "$results$skip\n",
       "[1] 0\n",
       "\n",
       "$results$total\n",
       "[1] 171082\n",
       "\n",
       "$results$limit\n",
       "[1] 20000\n",
       "\n",
       "\n",
       "$license\n",
       "[1] \"https://open.fda.gov/license/\"\n",
       "\n",
       "$disclaimer\n",
       "[1] \"Do not rely on openFDA to make decisions regarding medical care. While we make every effort to ensure that data is accurate, you should assume all results are unvalidated. We may limit or otherwise restrict your access to the API in line with our Terms of Service.\"\n"
      ]
     },
     "metadata": {},
     "output_type": "display_data"
    }
   ],
   "source": [
    "drug1$meta"
   ]
  },
  {
   "cell_type": "markdown",
   "metadata": {},
   "source": [
    "As we can see above, meta is metadata about the data, including a disclaimer, link to data license, last-updated date, and total matching records\n",
    "\n",
    "**Next, let's see what results contains**"
   ]
  },
  {
   "cell_type": "code",
   "execution_count": 7,
   "metadata": {},
   "outputs": [
    {
     "data": {
      "text/html": [
       "'data.frame'"
      ],
      "text/latex": [
       "'data.frame'"
      ],
      "text/markdown": [
       "'data.frame'"
      ],
      "text/plain": [
       "[1] \"data.frame\""
      ]
     },
     "metadata": {},
     "output_type": "display_data"
    }
   ],
   "source": [
    "results=drug1$results\n",
    "class(results)"
   ]
  },
  {
   "cell_type": "code",
   "execution_count": 8,
   "metadata": {},
   "outputs": [
    {
     "name": "stdout",
     "output_type": "stream",
     "text": [
      "Observations: 20,000\n",
      "Variables: 141\n",
      "$ active_ingredient                                                <list> [...\n",
      "$ storage_and_handling                                             <list> [...\n",
      "$ warnings                                                         <list> [...\n",
      "$ inactive_ingredient                                              <list> [...\n",
      "$ do_not_use                                                       <list> [...\n",
      "$ openfda                                                          <data.frame> ...\n",
      "$ keep_out_of_reach_of_children                                    <list> [...\n",
      "$ spl_product_data_elements                                        <list> [...\n",
      "$ package_label_principal_display_panel                            <list> [...\n",
      "$ set_id                                                           <chr> \"a...\n",
      "$ dosage_and_administration                                        <list> [...\n",
      "$ version                                                          <chr> \"1...\n",
      "$ stop_use                                                         <list> [...\n",
      "$ purpose                                                          <list> [...\n",
      "$ when_using                                                       <list> [...\n",
      "$ effective_time                                                   <chr> \"2...\n",
      "$ id                                                               <chr> \"a...\n",
      "$ indications_and_usage                                            <list> [...\n",
      "$ ask_doctor                                                       <list> [...\n",
      "$ other_safety_information                                         <list> [...\n",
      "$ questions                                                        <list> [...\n",
      "$ warnings_and_cautions                                            <list> [...\n",
      "$ instructions_for_use                                             <list> [...\n",
      "$ description                                                      <list> [...\n",
      "$ clinical_pharmacology                                            <list> [...\n",
      "$ adverse_reactions                                                <list> [...\n",
      "$ how_supplied                                                     <list> [...\n",
      "$ precautions                                                      <list> [...\n",
      "$ general_precautions                                              <list> [...\n",
      "$ pregnancy_or_breast_feeding                                      <list> [...\n",
      "$ spl_unclassified_section                                         <list> [...\n",
      "$ ask_doctor_or_pharmacist                                         <list> [...\n",
      "$ boxed_warning                                                    <list> [...\n",
      "$ boxed_warning_table                                              <list> [...\n",
      "$ description_table                                                <list> [...\n",
      "$ drug_abuse_and_dependence                                        <list> [...\n",
      "$ contraindications                                                <list> [...\n",
      "$ spl_medguide                                                     <list> [...\n",
      "$ overdosage                                                       <list> [...\n",
      "$ references                                                       <list> [...\n",
      "$ dosage_and_administration_table                                  <list> [...\n",
      "$ keep_out_of_reach_of_children_table                              <list> [...\n",
      "$ warnings_table                                                   <list> [...\n",
      "$ active_ingredient_table                                          <list> [...\n",
      "$ nonclinical_toxicology                                           <list> [...\n",
      "$ patient_medication_information                                   <list> [...\n",
      "$ clinical_studies                                                 <list> [...\n",
      "$ use_in_specific_populations                                      <list> [...\n",
      "$ drug_interactions                                                <list> [...\n",
      "$ carcinogenesis_and_mutagenesis_and_impairment_of_fertility       <list> [...\n",
      "$ pregnancy                                                        <list> [...\n",
      "$ pediatric_use                                                    <list> [...\n",
      "$ information_for_patients                                         <list> [...\n",
      "$ clinical_pharmacology_table                                      <list> [...\n",
      "$ geriatric_use                                                    <list> [...\n",
      "$ nursing_mothers                                                  <list> [...\n",
      "$ teratogenic_effects                                              <list> [...\n",
      "$ purpose_table                                                    <list> [...\n",
      "$ laboratory_tests                                                 <list> [...\n",
      "$ pharmacokinetics                                                 <list> [...\n",
      "$ nonteratogenic_effects                                           <list> [...\n",
      "$ how_supplied_table                                               <list> [...\n",
      "$ adverse_reactions_table                                          <list> [...\n",
      "$ information_for_owners_or_caregivers                             <list> [...\n",
      "$ indications_and_usage_table                                      <list> [...\n",
      "$ safe_handling_warning                                            <list> [...\n",
      "$ spl_unclassified_section_table                                   <list> [...\n",
      "$ labor_and_delivery                                               <list> [...\n",
      "$ controlled_substance                                             <list> [...\n",
      "$ abuse                                                            <list> [...\n",
      "$ drug_and_or_laboratory_test_interactions                         <list> [...\n",
      "$ dependence                                                       <list> [...\n",
      "$ pharmacodynamics                                                 <list> [...\n",
      "$ pharmacokinetics_table                                           <list> [...\n",
      "$ microbiology                                                     <list> [...\n",
      "$ dosage_forms_and_strengths                                       <list> [...\n",
      "$ clinical_studies_table                                           <list> [...\n",
      "$ drug_interactions_table                                          <list> [...\n",
      "$ mechanism_of_action                                              <list> [...\n",
      "$ animal_pharmacology_and_or_toxicology                            <list> [...\n",
      "$ spl_patient_package_insert                                       <list> [...\n",
      "$ recent_major_changes                                             <list> [...\n",
      "$ recent_major_changes_table                                       <list> [...\n",
      "$ spl_patient_package_insert_table                                 <list> [...\n",
      "$ pharmacodynamics_table                                           <list> [...\n",
      "$ warnings_and_cautions_table                                      <list> [...\n",
      "$ precautions_table                                                <list> [...\n",
      "$ user_safety_warnings                                             <list> [...\n",
      "$ microbiology_table                                               <list> [...\n",
      "$ dosage_forms_and_strengths_table                                 <list> [...\n",
      "$ information_for_patients_table                                   <list> [...\n",
      "$ package_label_principal_display_panel_table                      <list> [...\n",
      "$ intended_use_of_the_device                                       <list> [...\n",
      "$ troubleshooting                                                  <list> [...\n",
      "$ statement_of_identity                                            <list> [...\n",
      "$ route                                                            <list> [...\n",
      "$ summary_of_safety_and_effectiveness                              <list> [...\n",
      "$ cleaning                                                         <list> [...\n",
      "$ components                                                       <list> [...\n",
      "$ spl_medguide_table                                               <list> [...\n",
      "$ accessories                                                      <list> [...\n",
      "$ stop_use_table                                                   <list> [...\n",
      "$ inactive_ingredient_table                                        <list> [...\n",
      "$ pediatric_use_table                                              <list> [...\n",
      "$ disposal_and_waste_handling                                      <list> [...\n",
      "$ contraindications_table                                          <list> [...\n",
      "$ spl_indexing_data_elements                                       <list> [...\n",
      "$ storage_and_handling_table                                       <list> [...\n",
      "$ guaranteed_analysis_of_feed                                      <list> [...\n",
      "$ diagram_of_device                                                <list> [...\n",
      "$ animal_pharmacology_and_or_toxicology_table                      <list> [...\n",
      "$ pregnancy_table                                                  <list> [...\n",
      "$ use_in_specific_populations_table                                <list> [...\n",
      "$ instructions_for_use_table                                       <list> [...\n",
      "$ geriatric_use_table                                              <list> [...\n",
      "$ drug_and_or_laboratory_test_interactions_table                   <list> [...\n",
      "$ laboratory_tests_table                                           <list> [...\n",
      "$ references_table                                                 <list> [...\n",
      "$ overdosage_table                                                 <list> [...\n",
      "$ pharmacogenomics                                                 <list> [...\n",
      "$ risks                                                            <list> [...\n",
      "$ general_precautions_table                                        <list> [...\n",
      "$ drug_abuse_and_dependence_table                                  <list> [...\n",
      "$ abuse_table                                                      <list> [...\n",
      "$ teratogenic_effects_table                                        <list> [...\n",
      "$ patient_medication_information_table                             <list> [...\n",
      "$ assembly_or_installation_instructions                            <list> [...\n",
      "$ questions_table                                                  <list> [...\n",
      "$ nonclinical_toxicology_table                                     <list> [...\n",
      "$ carcinogenesis_and_mutagenesis_and_impairment_of_fertility_table <list> [...\n",
      "$ nonteratogenic_effects_table                                     <list> [...\n",
      "$ when_using_table                                                 <list> [...\n",
      "$ do_not_use_table                                                 <list> [...\n",
      "$ health_care_provider_letter                                      <list> [...\n",
      "$ health_care_provider_letter_table                                <list> [...\n",
      "$ veterinary_indications                                           <list> [...\n",
      "$ pregnancy_or_breast_feeding_table                                <list> [...\n",
      "$ ask_doctor_or_pharmacist_table                                   <list> [...\n",
      "$ ask_doctor_table                                                 <list> [...\n",
      "$ dependence_table                                                 <list> [...\n",
      "$ mechanism_of_action_table                                        <list> [...\n"
     ]
    }
   ],
   "source": [
    "glimpse(results)"
   ]
  },
  {
   "cell_type": "markdown",
   "metadata": {},
   "source": [
    "***Merging all the data files***\n",
    "\n",
    "Now, let's select certain variables from each data file and merge them and see the number of submissions across time.\n",
    "\n",
    "As a starting point, I will select the variables \"effective_time\" and \"boxed_warning\" to help me see the trend of submissions with time and how many of them contain boxed warning."
   ]
  },
  {
   "cell_type": "code",
   "execution_count": 9,
   "metadata": {},
   "outputs": [],
   "source": [
    "spl = fromJSON(filenames[1])$results                  # read drug-label-0001-of-0005.json\n",
    "spl=select(spl,effective_time,boxed_warning)          # select effective_time and boxed_warning\n",
    "\n",
    "  for(i in 3:length(filenames)){                      # read all the rest\n",
    "      \n",
    "      tmp =fromJSON(filenames[i])$results\n",
    "      \n",
    "   spl=rbind(spl, select(tmp,effective_time,boxed_warning))  # concatenate all\n",
    "}"
   ]
  },
  {
   "cell_type": "code",
   "execution_count": 10,
   "metadata": {},
   "outputs": [
    {
     "name": "stdout",
     "output_type": "stream",
     "text": [
      "Observations: 151,082\n",
      "Variables: 2\n",
      "$ effective_time <chr> \"20200507\", \"20200508\", \"20200510\", \"20181108\", \"201...\n",
      "$ boxed_warning  <list> [NULL, NULL, NULL, NULL, NULL, NULL, NULL, NULL, NU...\n"
     ]
    }
   ],
   "source": [
    "glimpse(spl)"
   ]
  },
  {
   "cell_type": "markdown",
   "metadata": {},
   "source": [
    "We see that the variable effective_time is character but boxed_warning is list. So, we will use unlist() to change the list to character.\n",
    "\n",
    "But first, let's understand effective_time."
   ]
  },
  {
   "cell_type": "code",
   "execution_count": 11,
   "metadata": {},
   "outputs": [
    {
     "name": "stdout",
     "output_type": "stream",
     "text": [
      "Maximum number of characters in effective_time:"
     ]
    },
    {
     "data": {
      "text/html": [
       "10"
      ],
      "text/latex": [
       "10"
      ],
      "text/markdown": [
       "10"
      ],
      "text/plain": [
       "[1] 10"
      ]
     },
     "metadata": {},
     "output_type": "display_data"
    }
   ],
   "source": [
    "cat(\"Maximum number of characters in effective_time:\")\n",
    "max(nchar(spl$effective_time))"
   ]
  },
  {
   "cell_type": "code",
   "execution_count": 12,
   "metadata": {},
   "outputs": [
    {
     "name": "stdout",
     "output_type": "stream",
     "text": [
      "Minimum number of characters in effective_time:"
     ]
    },
    {
     "data": {
      "text/html": [
       "8"
      ],
      "text/latex": [
       "8"
      ],
      "text/markdown": [
       "8"
      ],
      "text/plain": [
       "[1] 8"
      ]
     },
     "metadata": {},
     "output_type": "display_data"
    }
   ],
   "source": [
    "cat(\"Minimum number of characters in effective_time:\")\n",
    "min(nchar(spl$effective_time))"
   ]
  },
  {
   "cell_type": "code",
   "execution_count": 13,
   "metadata": {},
   "outputs": [
    {
     "data": {
      "text/html": [
       "<table>\n",
       "<thead><tr><th scope=col>nchar(effective_time)</th><th scope=col>count</th></tr></thead>\n",
       "<tbody>\n",
       "\t<tr><td> 8    </td><td>151077</td></tr>\n",
       "\t<tr><td> 9    </td><td>     3</td></tr>\n",
       "\t<tr><td>10    </td><td>     2</td></tr>\n",
       "</tbody>\n",
       "</table>\n"
      ],
      "text/latex": [
       "\\begin{tabular}{r|ll}\n",
       " nchar(effective\\_time) & count\\\\\n",
       "\\hline\n",
       "\t  8     & 151077\\\\\n",
       "\t  9     &      3\\\\\n",
       "\t 10     &      2\\\\\n",
       "\\end{tabular}\n"
      ],
      "text/markdown": [
       "\n",
       "| nchar(effective_time) | count |\n",
       "|---|---|\n",
       "|  8     | 151077 |\n",
       "|  9     |      3 |\n",
       "| 10     |      2 |\n",
       "\n"
      ],
      "text/plain": [
       "  nchar(effective_time) count \n",
       "1  8                    151077\n",
       "2  9                         3\n",
       "3 10                         2"
      ]
     },
     "metadata": {},
     "output_type": "display_data"
    }
   ],
   "source": [
    "spl%>%group_by(nchar(effective_time))%>%summarize(count=n())\n"
   ]
  },
  {
   "cell_type": "markdown",
   "metadata": {},
   "source": [
    "As shown above the variable effective_time has different number of characters. This suggests that the format is not consistent. Let's first see those that have 10 characters.\n",
    "\n"
   ]
  },
  {
   "cell_type": "code",
   "execution_count": 15,
   "metadata": {},
   "outputs": [
    {
     "data": {
      "text/html": [
       "<table>\n",
       "<thead><tr><th scope=col>effective_time</th></tr></thead>\n",
       "<tbody>\n",
       "\t<tr><td>2009103009</td></tr>\n",
       "\t<tr><td>2010110126</td></tr>\n",
       "</tbody>\n",
       "</table>\n"
      ],
      "text/latex": [
       "\\begin{tabular}{r|l}\n",
       " effective\\_time\\\\\n",
       "\\hline\n",
       "\t 2009103009\\\\\n",
       "\t 2010110126\\\\\n",
       "\\end{tabular}\n"
      ],
      "text/markdown": [
       "\n",
       "| effective_time |\n",
       "|---|\n",
       "| 2009103009 |\n",
       "| 2010110126 |\n",
       "\n"
      ],
      "text/plain": [
       "  effective_time\n",
       "1 2009103009    \n",
       "2 2010110126    "
      ]
     },
     "metadata": {},
     "output_type": "display_data"
    }
   ],
   "source": [
    "tmp=select(spl,effective_time)\n",
    "filter(tmp, nchar(effective_time)==10)"
   ]
  },
  {
   "cell_type": "markdown",
   "metadata": {},
   "source": [
    "What about those that contain nine characters?\n",
    "\n"
   ]
  },
  {
   "cell_type": "code",
   "execution_count": 16,
   "metadata": {},
   "outputs": [
    {
     "data": {
      "text/html": [
       "<table>\n",
       "<thead><tr><th scope=col>effective_time</th></tr></thead>\n",
       "<tbody>\n",
       "\t<tr><td>201001004</td></tr>\n",
       "\t<tr><td>201004119</td></tr>\n",
       "\t<tr><td>201001018</td></tr>\n",
       "</tbody>\n",
       "</table>\n"
      ],
      "text/latex": [
       "\\begin{tabular}{r|l}\n",
       " effective\\_time\\\\\n",
       "\\hline\n",
       "\t 201001004\\\\\n",
       "\t 201004119\\\\\n",
       "\t 201001018\\\\\n",
       "\\end{tabular}\n"
      ],
      "text/markdown": [
       "\n",
       "| effective_time |\n",
       "|---|\n",
       "| 201001004 |\n",
       "| 201004119 |\n",
       "| 201001018 |\n",
       "\n"
      ],
      "text/plain": [
       "  effective_time\n",
       "1 201001004     \n",
       "2 201004119     \n",
       "3 201001018     "
      ]
     },
     "metadata": {},
     "output_type": "display_data"
    }
   ],
   "source": [
    "filter(tmp, nchar(effective_time)==9)\n"
   ]
  },
  {
   "cell_type": "markdown",
   "metadata": {},
   "source": [
    "Finally, let's have a look at entries with eight characters.\n",
    "\n"
   ]
  },
  {
   "cell_type": "code",
   "execution_count": 17,
   "metadata": {},
   "outputs": [
    {
     "data": {
      "text/html": [
       "<table>\n",
       "<thead><tr><th scope=col>effective_time</th></tr></thead>\n",
       "<tbody>\n",
       "\t<tr><td>20200507</td></tr>\n",
       "\t<tr><td>20200508</td></tr>\n",
       "\t<tr><td>20200510</td></tr>\n",
       "\t<tr><td>20181108</td></tr>\n",
       "\t<tr><td>20191110</td></tr>\n",
       "\t<tr><td>20150925</td></tr>\n",
       "</tbody>\n",
       "</table>\n"
      ],
      "text/latex": [
       "\\begin{tabular}{r|l}\n",
       " effective\\_time\\\\\n",
       "\\hline\n",
       "\t 20200507\\\\\n",
       "\t 20200508\\\\\n",
       "\t 20200510\\\\\n",
       "\t 20181108\\\\\n",
       "\t 20191110\\\\\n",
       "\t 20150925\\\\\n",
       "\\end{tabular}\n"
      ],
      "text/markdown": [
       "\n",
       "| effective_time |\n",
       "|---|\n",
       "| 20200507 |\n",
       "| 20200508 |\n",
       "| 20200510 |\n",
       "| 20181108 |\n",
       "| 20191110 |\n",
       "| 20150925 |\n",
       "\n"
      ],
      "text/plain": [
       "  effective_time\n",
       "1 20200507      \n",
       "2 20200508      \n",
       "3 20200510      \n",
       "4 20181108      \n",
       "5 20191110      \n",
       "6 20150925      "
      ]
     },
     "metadata": {},
     "output_type": "display_data"
    }
   ],
   "source": [
    "head(filter(tmp, nchar(effective_time)==8))\n"
   ]
  },
  {
   "cell_type": "markdown",
   "metadata": {},
   "source": [
    "One option is to use yyyy/mm/dd format and drop the additional information. This will help us to have a consistent date format and we can do analysis on daily, monthly or annual basis. The function stri_sub from the stringi package helps us to extact fixed number of characters. So, let's extact the first eight characters only from the variable effective_time."
   ]
  },
  {
   "cell_type": "code",
   "execution_count": 18,
   "metadata": {},
   "outputs": [],
   "source": [
    "spl=mutate(spl,effective_time=stri_sub(effective_time,1,8))\n"
   ]
  },
  {
   "cell_type": "markdown",
   "metadata": {},
   "source": [
    "Now, let's check that all have eight characters only.\n",
    "\n"
   ]
  },
  {
   "cell_type": "code",
   "execution_count": 19,
   "metadata": {},
   "outputs": [
    {
     "data": {
      "text/html": [
       "<table>\n",
       "<thead><tr><th scope=col>nchar(effective_time)</th><th scope=col>count</th></tr></thead>\n",
       "<tbody>\n",
       "\t<tr><td>8     </td><td>151082</td></tr>\n",
       "</tbody>\n",
       "</table>\n"
      ],
      "text/latex": [
       "\\begin{tabular}{r|ll}\n",
       " nchar(effective\\_time) & count\\\\\n",
       "\\hline\n",
       "\t 8      & 151082\\\\\n",
       "\\end{tabular}\n"
      ],
      "text/markdown": [
       "\n",
       "| nchar(effective_time) | count |\n",
       "|---|---|\n",
       "| 8      | 151082 |\n",
       "\n"
      ],
      "text/plain": [
       "  nchar(effective_time) count \n",
       "1 8                     151082"
      ]
     },
     "metadata": {},
     "output_type": "display_data"
    }
   ],
   "source": [
    "spl%>%group_by(nchar(effective_time))%>%summarize(count=n())\n"
   ]
  },
  {
   "cell_type": "markdown",
   "metadata": {},
   "source": [
    "Now, since all have eight characters in yyyymmdd format, we can use the ymd function from the lubridate package to change the values from character to date.\n",
    "\n"
   ]
  },
  {
   "cell_type": "code",
   "execution_count": 20,
   "metadata": {},
   "outputs": [
    {
     "name": "stderr",
     "output_type": "stream",
     "text": [
      "Warning message:\n",
      "\" 1 failed to parse.\""
     ]
    }
   ],
   "source": [
    "spl=mutate(spl,effective_time =ymd(effective_time))\n"
   ]
  },
  {
   "cell_type": "code",
   "execution_count": 21,
   "metadata": {},
   "outputs": [
    {
     "name": "stdout",
     "output_type": "stream",
     "text": [
      "Observations: 151,082\n",
      "Variables: 2\n",
      "$ effective_time <date> 2020-05-07, 2020-05-08, 2020-05-10, 2018-11-08, 201...\n",
      "$ boxed_warning  <list> [NULL, NULL, NULL, NULL, NULL, NULL, NULL, NULL, NU...\n"
     ]
    }
   ],
   "source": [
    "glimpse(spl)  # checking if effective_time has been changed to date format.\n"
   ]
  },
  {
   "cell_type": "markdown",
   "metadata": {},
   "source": [
    "***Number of submissions per day***"
   ]
  },
  {
   "cell_type": "code",
   "execution_count": 22,
   "metadata": {},
   "outputs": [
    {
     "name": "stderr",
     "output_type": "stream",
     "text": [
      "Warning message:\n",
      "\"Removed 1 rows containing missing values (geom_path).\""
     ]
    },
    {
     "data": {
      "image/png": "[encoded data removed]",
      "text/plain": [
       "plot without title"
      ]
     },
     "metadata": {},
     "output_type": "display_data"
    }
   ],
   "source": [
    "spl%>%group_by(effective_time)%>%summarize(Total=n())%>%\n",
    "ggplot(aes(x=effective_time,y=Total))+geom_line()"
   ]
  },
  {
   "cell_type": "markdown",
   "metadata": {},
   "source": [
    "There are very small number of reports prior to 2009, so let's exclude them from our figure.\n",
    "\n"
   ]
  },
  {
   "cell_type": "code",
   "execution_count": 23,
   "metadata": {},
   "outputs": [
    {
     "data": {
      "image/png": "[encoded data removed]",
      "text/plain": [
       "plot without title"
      ]
     },
     "metadata": {},
     "output_type": "display_data"
    }
   ],
   "source": [
    "spl%>%filter(effective_time>ymd(\"20081231\"))%>%\n",
    "              group_by(effective_time)%>%summarize(Total=n())%>%\n",
    "ggplot(aes(x=effective_time,y=Total))+geom_line()\n"
   ]
  },
  {
   "cell_type": "markdown",
   "metadata": {},
   "source": [
    "This figure is not that helpful, so let's see number of reports per year rather than per day.\n",
    "\n"
   ]
  },
  {
   "cell_type": "code",
   "execution_count": 27,
   "metadata": {},
   "outputs": [],
   "source": [
    "spl=mutate(spl, year = format(effective_time, \"%Y\"))\n"
   ]
  },
  {
   "cell_type": "code",
   "execution_count": 28,
   "metadata": {},
   "outputs": [
    {
     "name": "stdout",
     "output_type": "stream",
     "text": [
      "Observations: 151,082\n",
      "Variables: 3\n",
      "$ effective_time <date> 2020-05-07, 2020-05-08, 2020-05-10, 2018-11-08, 201...\n",
      "$ boxed_warning  <list> [NULL, NULL, NULL, NULL, NULL, NULL, NULL, NULL, NU...\n",
      "$ year           <chr> \"2020\", \"2020\", \"2020\", \"2018\", \"2019\", \"2015\", \"201...\n"
     ]
    }
   ],
   "source": [
    "glimpse(spl)\n"
   ]
  },
  {
   "cell_type": "markdown",
   "metadata": {},
   "source": [
    "Since there is only one entry for 2017, we will consider up to the end of 2016.\n",
    "\n",
    "**revised**"
   ]
  },
  {
   "cell_type": "code",
   "execution_count": 33,
   "metadata": {},
   "outputs": [
    {
     "data": {
      "image/png": "[encoded data removed]",
      "text/plain": [
       "plot without title"
      ]
     },
     "metadata": {},
     "output_type": "display_data"
    }
   ],
   "source": [
    "spl%>%filter(effective_time>ymd(\"20121231\") & effective_time < ymd(\"20210101\"))%>%group_by(year)%>%summarize(Total=n())%>%\n",
    "ggplot(aes(x=year,y=Total, fill=Total))+geom_bar(stat=\"identity\",color='white')+\n",
    "ggtitle('Annual drug labeling submissions')+xlab('')+ylab('Total number of submission')"
   ]
  },
  {
   "cell_type": "markdown",
   "metadata": {},
   "source": [
    "Now, let's see boxed warning, which is the strongest warning that the FDA requires, and signifies that medical studies indicate that the drug carries a significant risk of serious or even life-threatening adverse effects."
   ]
  },
  {
   "cell_type": "code",
   "execution_count": 34,
   "metadata": {},
   "outputs": [
    {
     "data": {
      "text/html": [
       "<ol>\n",
       "\t<li>NULL</li>\n",
       "\t<li>NULL</li>\n",
       "\t<li>NULL</li>\n",
       "\t<li>NULL</li>\n",
       "\t<li>NULL</li>\n",
       "\t<li>NULL</li>\n",
       "</ol>\n"
      ],
      "text/latex": [
       "\\begin{enumerate}\n",
       "\\item NULL\n",
       "\\item NULL\n",
       "\\item NULL\n",
       "\\item NULL\n",
       "\\item NULL\n",
       "\\item NULL\n",
       "\\end{enumerate}\n"
      ],
      "text/markdown": [
       "1. NULL\n",
       "2. NULL\n",
       "3. NULL\n",
       "4. NULL\n",
       "5. NULL\n",
       "6. NULL\n",
       "\n",
       "\n"
      ],
      "text/plain": [
       "[[1]]\n",
       "NULL\n",
       "\n",
       "[[2]]\n",
       "NULL\n",
       "\n",
       "[[3]]\n",
       "NULL\n",
       "\n",
       "[[4]]\n",
       "NULL\n",
       "\n",
       "[[5]]\n",
       "NULL\n",
       "\n",
       "[[6]]\n",
       "NULL\n"
      ]
     },
     "metadata": {},
     "output_type": "display_data"
    }
   ],
   "source": [
    "select(spl,boxed_warning)[25:30,]\n"
   ]
  },
  {
   "cell_type": "code",
   "execution_count": 35,
   "metadata": {},
   "outputs": [],
   "source": [
    "spl$boxed_warning[spl$boxed_warning==\"NULL\"] =NA\n"
   ]
  },
  {
   "cell_type": "code",
   "execution_count": 36,
   "metadata": {},
   "outputs": [
    {
     "name": "stdout",
     "output_type": "stream",
     "text": [
      "Observations: 151,082\n",
      "Variables: 3\n",
      "$ effective_time <date> 2020-05-07, 2020-05-08, 2020-05-10, 2018-11-08, 201...\n",
      "$ boxed_warning  <list> [NA, NA, NA, NA, NA, NA, NA, NA, NA, NA, NA, NA, NA...\n",
      "$ year           <chr> \"2020\", \"2020\", \"2020\", \"2018\", \"2019\", \"2015\", \"201...\n"
     ]
    }
   ],
   "source": [
    "glimpse(spl)  # check that NULL is changed to NA\n"
   ]
  },
  {
   "cell_type": "code",
   "execution_count": 38,
   "metadata": {},
   "outputs": [
    {
     "data": {
      "image/png": "[encoded data removed]",
      "text/plain": [
       "plot without title"
      ]
     },
     "metadata": {},
     "output_type": "display_data"
    }
   ],
   "source": [
    "spl%>%filter(effective_time>ymd(\"20121231\") & effective_time < ymd(\"20210101\"))%>%\n",
    "group_by(year)%>%summarize(total_boxed_warning=sum(!is.na(boxed_warning)))%>%\n",
    "ggplot(aes(x=year,y=total_boxed_warning))+geom_bar(stat=\"identity\",fill='light green',color='dark blue')+\n",
    "ggtitle('Annual drug labeling submissions \\n with boxed warning ')+xlab('')+\n",
    "ylab('Total number of submission')"
   ]
  },
  {
   "cell_type": "code",
   "execution_count": 39,
   "metadata": {},
   "outputs": [
    {
     "data": {
      "text/html": [
       "<ol>\n",
       "\t<li>&lt;NA&gt;</li>\n",
       "\t<li>'WARNING: ADDICTION, ABUSE, AND MISUSE: RISK EVALUATION AND MITIGATION STRATEGY (REMS); LIFE-THREATENING RESPIRATORY DEPRESSION; ACCIDENTAL INGESTION; NEONATAL OPIOID; WITHDRAWAL SYNDROME; CYTOCHROME P450 3A4 INTERACTION; HEPATOTOXICITY AND RISKS FROM CONCOMITANT USE WITH BENZODIAZEPINES OR OTHER CNS DEPRESSANTS Addiction, Abuse, and Misuse Hydrocodone bitartrate and acetaminophen tablets exposes patients and other users to the risks of opioid addiction, abuse, and misuse, which can lead to overdose and death. Assess each patient’s risk prior to prescribing hydrocodone bitartrate and acetaminophen tablets, and monitor all patients regularly for the development of these behaviors or conditions [see WARNINGS]. Opioid Analgesic Risk Evaluation and Mitigation Strategy (REMS): To ensure that the benefits of opioid analgesics outweigh the risks of addiction, abuse, and misuse, the Food and Drug Administration (FDA) has required a REMS for these products [see WARNINGS]. Under the requirements of the REMS, drug companies with approved opioid analgesic products must make REMS-compliant education programs available to healthcare providers. Healthcare providers are strongly encouraged to complete a REMS-compliant education program, counsel patients and/or their caregivers, with every prescription, on safe use, serious risks, storage, and disposal of these products, emphasize to patients and their caregivers the importance of reading the Medication Guide every time it is provided by their pharmacist, and Consider other tools to improve patient, household, and community safety. Life-Threatening Respiratory Depression Serious, life-threatening, or fatal respiratory depression may occur with use of hydrocodone bitartrate and acetaminophen tablets. Monitor for respiratory depression, especially during initiation of hydrocodone bitartrate and acetaminophen tablets or following a dose increase [seeWARNINGS]. Accidental Ingestion Accidental ingestion of hydrocodone bitartrate and acetaminophen tablets, especially by children, can result in a fatal overdose of Hydrocodone bitartrate and acetaminophen tablets [seeWARNINGS]. Neonatal Opioid Withdrawal Syndrome Prolonged use of hydrocodone bitartrate and acetaminophen tablets during pregnancy can result in neonatal opioid withdrawal syndrome, which may be life-threatening if not recognized and treated, and requires management according to protocols developed by neonatology experts. If opioid use is required for a prolonged period in a pregnant woman, advise the patient of the risk of neonatal opioid withdrawal syndrome and ensure that appropriate treatment will be available [seeWARNINGS]. Cytochrome P450 3A4 Interaction The concomitant use of Hydrocodone Bitartrate and Acetaminophen Tablets with all Cytochrome P450 3A4 inhibitors may result in an increase in hydrocodone plasma concentrations, which could increase or prolong adverse reactions and may cause potentially fatal respiratory depression. In addition, discontinuation of a concomitantly used Cytochrome P450 3A4 inducer may result in an increase in hydrocodone plasma concentrations. Monitor patients receiving Hydrocodone Bitartrate and Acetaminophen Tablets and any Cytochrome P450 3A4 inhibitor or inducer for signs of respiratory depression or sedation [see CLINICAL PHARMACOLOGY, WARNINGS, PRECAUTIONS;DRUG INTERACTIONS]. Hepatotoxicity Acetaminophen has been associated with cases of acute liver failure, at times resulting in liver transplant and death. Most of the cases of liver injury are associated with the use of acetaminophen at doses that exceed 4,000 milligrams per day, and often involve more than one acetaminophen-containing product (see WARNINGS). Risks from concomitant use with Benzodiazepines or other CNS Depressants Concomitant use of opiods with benzodiazepines or other central nervous system (CNS) depressants including alcohol, may result in profound sedation, respiratory depression, coma, and death. [seeWARNINGS,PRECAUTIONS; DRUG INTERACTIONS] • Reserve concomitant prescribing of Hydrocodone bitartrate and acetaminophen tablets and benzodiazepines or other CNS depressants for use in patients for whom alternative treatment options are inadequate. • Limit dosages and durations to the minimum required. • Follow patients for signs and symptoms of respiratory depression and sedation.'</li>\n",
       "\t<li>'BOXED WARNING Cessation of Therapy with TENORMINPatients with coronary artery disease, who are being treated with TENORMIN, should be advised against abrupt discontinuation of therapy. Severe exacerbation of angina and the occurrence of myocardial infarction and ventricular arrhythmias have been reported in angina patients following the abrupt discontinuation of therapy with beta blockers. The last two complications may occur with or without preceding exacerbation of the angina pectoris. As with other beta blockers, when discontinuation of TENORMIN is planned, the patients should be carefully observed and advised to limit physical activity to a minimum. If the angina worsens or acute coronary insufficiency develops, it is recommended that TENORMIN be promptly reinstituted, at least temporarily. Because coronary artery disease is common and may be unrecognized, it may be prudent not to discontinue TENORMIN therapy abruptly even in patients treated only for hypertension. (SeeDOSAGE AND ADMINISTRATION.)'</li>\n",
       "</ol>\n"
      ],
      "text/latex": [
       "\\begin{enumerate}\n",
       "\\item <NA>\n",
       "\\item 'WARNING: ADDICTION, ABUSE, AND MISUSE: RISK EVALUATION AND MITIGATION STRATEGY (REMS); LIFE-THREATENING RESPIRATORY DEPRESSION; ACCIDENTAL INGESTION; NEONATAL OPIOID; WITHDRAWAL SYNDROME; CYTOCHROME P450 3A4 INTERACTION; HEPATOTOXICITY AND RISKS FROM CONCOMITANT USE WITH BENZODIAZEPINES OR OTHER CNS DEPRESSANTS Addiction, Abuse, and Misuse Hydrocodone bitartrate and acetaminophen tablets exposes patients and other users to the risks of opioid addiction, abuse, and misuse, which can lead to overdose and death. Assess each patient’s risk prior to prescribing hydrocodone bitartrate and acetaminophen tablets, and monitor all patients regularly for the development of these behaviors or conditions {[}see WARNINGS{]}. Opioid Analgesic Risk Evaluation and Mitigation Strategy (REMS): To ensure that the benefits of opioid analgesics outweigh the risks of addiction, abuse, and misuse, the Food and Drug Administration (FDA) has required a REMS for these products {[}see WARNINGS{]}. Under the requirements of the REMS, drug companies with approved opioid analgesic products must make REMS-compliant education programs available to healthcare providers. Healthcare providers are strongly encouraged to complete a REMS-compliant education program, counsel patients and/or their caregivers, with every prescription, on safe use, serious risks, storage, and disposal of these products, emphasize to patients and their caregivers the importance of reading the Medication Guide every time it is provided by their pharmacist, and Consider other tools to improve patient, household, and community safety. Life-Threatening Respiratory Depression Serious, life-threatening, or fatal respiratory depression may occur with use of hydrocodone bitartrate and acetaminophen tablets. Monitor for respiratory depression, especially during initiation of hydrocodone bitartrate and acetaminophen tablets or following a dose increase {[}seeWARNINGS{]}. Accidental Ingestion Accidental ingestion of hydrocodone bitartrate and acetaminophen tablets, especially by children, can result in a fatal overdose of Hydrocodone bitartrate and acetaminophen tablets {[}seeWARNINGS{]}. Neonatal Opioid Withdrawal Syndrome Prolonged use of hydrocodone bitartrate and acetaminophen tablets during pregnancy can result in neonatal opioid withdrawal syndrome, which may be life-threatening if not recognized and treated, and requires management according to protocols developed by neonatology experts. If opioid use is required for a prolonged period in a pregnant woman, advise the patient of the risk of neonatal opioid withdrawal syndrome and ensure that appropriate treatment will be available {[}seeWARNINGS{]}. Cytochrome P450 3A4 Interaction The concomitant use of Hydrocodone Bitartrate and Acetaminophen Tablets with all Cytochrome P450 3A4 inhibitors may result in an increase in hydrocodone plasma concentrations, which could increase or prolong adverse reactions and may cause potentially fatal respiratory depression. In addition, discontinuation of a concomitantly used Cytochrome P450 3A4 inducer may result in an increase in hydrocodone plasma concentrations. Monitor patients receiving Hydrocodone Bitartrate and Acetaminophen Tablets and any Cytochrome P450 3A4 inhibitor or inducer for signs of respiratory depression or sedation {[}see CLINICAL PHARMACOLOGY, WARNINGS, PRECAUTIONS;DRUG INTERACTIONS{]}. Hepatotoxicity Acetaminophen has been associated with cases of acute liver failure, at times resulting in liver transplant and death. Most of the cases of liver injury are associated with the use of acetaminophen at doses that exceed 4,000 milligrams per day, and often involve more than one acetaminophen-containing product (see WARNINGS). Risks from concomitant use with Benzodiazepines or other CNS Depressants Concomitant use of opiods with benzodiazepines or other central nervous system (CNS) depressants including alcohol, may result in profound sedation, respiratory depression, coma, and death. {[}seeWARNINGS,PRECAUTIONS; DRUG INTERACTIONS{]} • Reserve concomitant prescribing of Hydrocodone bitartrate and acetaminophen tablets and benzodiazepines or other CNS depressants for use in patients for whom alternative treatment options are inadequate. • Limit dosages and durations to the minimum required. • Follow patients for signs and symptoms of respiratory depression and sedation.'\n",
       "\\item 'BOXED WARNING Cessation of Therapy with TENORMINPatients with coronary artery disease, who are being treated with TENORMIN, should be advised against abrupt discontinuation of therapy. Severe exacerbation of angina and the occurrence of myocardial infarction and ventricular arrhythmias have been reported in angina patients following the abrupt discontinuation of therapy with beta blockers. The last two complications may occur with or without preceding exacerbation of the angina pectoris. As with other beta blockers, when discontinuation of TENORMIN is planned, the patients should be carefully observed and advised to limit physical activity to a minimum. If the angina worsens or acute coronary insufficiency develops, it is recommended that TENORMIN be promptly reinstituted, at least temporarily. Because coronary artery disease is common and may be unrecognized, it may be prudent not to discontinue TENORMIN therapy abruptly even in patients treated only for hypertension. (SeeDOSAGE AND ADMINISTRATION.)'\n",
       "\\end{enumerate}\n"
      ],
      "text/markdown": [
       "1. &lt;NA&gt;\n",
       "2. 'WARNING: ADDICTION, ABUSE, AND MISUSE: RISK EVALUATION AND MITIGATION STRATEGY (REMS); LIFE-THREATENING RESPIRATORY DEPRESSION; ACCIDENTAL INGESTION; NEONATAL OPIOID; WITHDRAWAL SYNDROME; CYTOCHROME P450 3A4 INTERACTION; HEPATOTOXICITY AND RISKS FROM CONCOMITANT USE WITH BENZODIAZEPINES OR OTHER CNS DEPRESSANTS Addiction, Abuse, and Misuse Hydrocodone bitartrate and acetaminophen tablets exposes patients and other users to the risks of opioid addiction, abuse, and misuse, which can lead to overdose and death. Assess each patient’s risk prior to prescribing hydrocodone bitartrate and acetaminophen tablets, and monitor all patients regularly for the development of these behaviors or conditions [see WARNINGS]. Opioid Analgesic Risk Evaluation and Mitigation Strategy (REMS): To ensure that the benefits of opioid analgesics outweigh the risks of addiction, abuse, and misuse, the Food and Drug Administration (FDA) has required a REMS for these products [see WARNINGS]. Under the requirements of the REMS, drug companies with approved opioid analgesic products must make REMS-compliant education programs available to healthcare providers. Healthcare providers are strongly encouraged to complete a REMS-compliant education program, counsel patients and/or their caregivers, with every prescription, on safe use, serious risks, storage, and disposal of these products, emphasize to patients and their caregivers the importance of reading the Medication Guide every time it is provided by their pharmacist, and Consider other tools to improve patient, household, and community safety. Life-Threatening Respiratory Depression Serious, life-threatening, or fatal respiratory depression may occur with use of hydrocodone bitartrate and acetaminophen tablets. Monitor for respiratory depression, especially during initiation of hydrocodone bitartrate and acetaminophen tablets or following a dose increase [seeWARNINGS]. Accidental Ingestion Accidental ingestion of hydrocodone bitartrate and acetaminophen tablets, especially by children, can result in a fatal overdose of Hydrocodone bitartrate and acetaminophen tablets [seeWARNINGS]. Neonatal Opioid Withdrawal Syndrome Prolonged use of hydrocodone bitartrate and acetaminophen tablets during pregnancy can result in neonatal opioid withdrawal syndrome, which may be life-threatening if not recognized and treated, and requires management according to protocols developed by neonatology experts. If opioid use is required for a prolonged period in a pregnant woman, advise the patient of the risk of neonatal opioid withdrawal syndrome and ensure that appropriate treatment will be available [seeWARNINGS]. Cytochrome P450 3A4 Interaction The concomitant use of Hydrocodone Bitartrate and Acetaminophen Tablets with all Cytochrome P450 3A4 inhibitors may result in an increase in hydrocodone plasma concentrations, which could increase or prolong adverse reactions and may cause potentially fatal respiratory depression. In addition, discontinuation of a concomitantly used Cytochrome P450 3A4 inducer may result in an increase in hydrocodone plasma concentrations. Monitor patients receiving Hydrocodone Bitartrate and Acetaminophen Tablets and any Cytochrome P450 3A4 inhibitor or inducer for signs of respiratory depression or sedation [see CLINICAL PHARMACOLOGY, WARNINGS, PRECAUTIONS;DRUG INTERACTIONS]. Hepatotoxicity Acetaminophen has been associated with cases of acute liver failure, at times resulting in liver transplant and death. Most of the cases of liver injury are associated with the use of acetaminophen at doses that exceed 4,000 milligrams per day, and often involve more than one acetaminophen-containing product (see WARNINGS). Risks from concomitant use with Benzodiazepines or other CNS Depressants Concomitant use of opiods with benzodiazepines or other central nervous system (CNS) depressants including alcohol, may result in profound sedation, respiratory depression, coma, and death. [seeWARNINGS,PRECAUTIONS; DRUG INTERACTIONS] • Reserve concomitant prescribing of Hydrocodone bitartrate and acetaminophen tablets and benzodiazepines or other CNS depressants for use in patients for whom alternative treatment options are inadequate. • Limit dosages and durations to the minimum required. • Follow patients for signs and symptoms of respiratory depression and sedation.'\n",
       "3. 'BOXED WARNING Cessation of Therapy with TENORMINPatients with coronary artery disease, who are being treated with TENORMIN, should be advised against abrupt discontinuation of therapy. Severe exacerbation of angina and the occurrence of myocardial infarction and ventricular arrhythmias have been reported in angina patients following the abrupt discontinuation of therapy with beta blockers. The last two complications may occur with or without preceding exacerbation of the angina pectoris. As with other beta blockers, when discontinuation of TENORMIN is planned, the patients should be carefully observed and advised to limit physical activity to a minimum. If the angina worsens or acute coronary insufficiency develops, it is recommended that TENORMIN be promptly reinstituted, at least temporarily. Because coronary artery disease is common and may be unrecognized, it may be prudent not to discontinue TENORMIN therapy abruptly even in patients treated only for hypertension. (SeeDOSAGE AND ADMINISTRATION.)'\n",
       "\n",
       "\n"
      ],
      "text/plain": [
       "[[1]]\n",
       "[1] NA\n",
       "\n",
       "[[2]]\n",
       "[1] \"WARNING: ADDICTION, ABUSE, AND MISUSE: RISK EVALUATION AND MITIGATION STRATEGY (REMS); LIFE-THREATENING RESPIRATORY DEPRESSION; ACCIDENTAL INGESTION; NEONATAL OPIOID; WITHDRAWAL SYNDROME; CYTOCHROME P450 3A4 INTERACTION; HEPATOTOXICITY AND RISKS FROM CONCOMITANT USE WITH BENZODIAZEPINES OR OTHER CNS DEPRESSANTS Addiction, Abuse, and Misuse Hydrocodone bitartrate and acetaminophen tablets exposes patients and other users to the risks of opioid addiction, abuse, and misuse, which can lead to overdose and death. Assess each patient’s risk prior to prescribing hydrocodone bitartrate and acetaminophen tablets, and monitor all patients regularly for the development of these behaviors or conditions [see WARNINGS]. Opioid Analgesic Risk Evaluation and Mitigation Strategy (REMS): To ensure that the benefits of opioid analgesics outweigh the risks of addiction, abuse, and misuse, the Food and Drug Administration (FDA) has required a REMS for these products [see WARNINGS]. Under the requirements of the REMS, drug companies with approved opioid analgesic products must make REMS-compliant education programs available to healthcare providers. Healthcare providers are strongly encouraged to complete a REMS-compliant education program, counsel patients and/or their caregivers, with every prescription, on safe use, serious risks, storage, and disposal of these products, emphasize to patients and their caregivers the importance of reading the Medication Guide every time it is provided by their pharmacist, and Consider other tools to improve patient, household, and community safety. Life-Threatening Respiratory Depression Serious, life-threatening, or fatal respiratory depression may occur with use of hydrocodone bitartrate and acetaminophen tablets. Monitor for respiratory depression, especially during initiation of hydrocodone bitartrate and acetaminophen tablets or following a dose increase [seeWARNINGS]. Accidental Ingestion Accidental ingestion of hydrocodone bitartrate and acetaminophen tablets, especially by children, can result in a fatal overdose of Hydrocodone bitartrate and acetaminophen tablets [seeWARNINGS]. Neonatal Opioid Withdrawal Syndrome Prolonged use of hydrocodone bitartrate and acetaminophen tablets during pregnancy can result in neonatal opioid withdrawal syndrome, which may be life-threatening if not recognized and treated, and requires management according to protocols developed by neonatology experts. If opioid use is required for a prolonged period in a pregnant woman, advise the patient of the risk of neonatal opioid withdrawal syndrome and ensure that appropriate treatment will be available [seeWARNINGS]. Cytochrome P450 3A4 Interaction The concomitant use of Hydrocodone Bitartrate and Acetaminophen Tablets with all Cytochrome P450 3A4 inhibitors may result in an increase in hydrocodone plasma concentrations, which could increase or prolong adverse reactions and may cause potentially fatal respiratory depression. In addition, discontinuation of a concomitantly used Cytochrome P450 3A4 inducer may result in an increase in hydrocodone plasma concentrations. Monitor patients receiving Hydrocodone Bitartrate and Acetaminophen Tablets and any Cytochrome P450 3A4 inhibitor or inducer for signs of respiratory depression or sedation [see CLINICAL PHARMACOLOGY, WARNINGS, PRECAUTIONS;DRUG INTERACTIONS]. Hepatotoxicity Acetaminophen has been associated with cases of acute liver failure, at times resulting in liver transplant and death. Most of the cases of liver injury are associated with the use of acetaminophen at doses that exceed 4,000 milligrams per day, and often involve more than one acetaminophen-containing product (see WARNINGS). Risks from concomitant use with Benzodiazepines or other CNS Depressants Concomitant use of opiods with benzodiazepines or other central nervous system (CNS) depressants including alcohol, may result in profound sedation, respiratory depression, coma, and death. [seeWARNINGS,PRECAUTIONS; DRUG INTERACTIONS] • Reserve concomitant prescribing of Hydrocodone bitartrate and acetaminophen tablets and benzodiazepines or other CNS depressants for use in patients for whom alternative treatment options are inadequate. • Limit dosages and durations to the minimum required. • Follow patients for signs and symptoms of respiratory depression and sedation.\"\n",
       "\n",
       "[[3]]\n",
       "[1] \"BOXED WARNING Cessation of Therapy with TENORMINPatients with coronary artery disease, who are being treated with TENORMIN, should be advised against abrupt discontinuation of therapy. Severe exacerbation of angina and the occurrence of myocardial infarction and ventricular arrhythmias have been reported in angina patients following the abrupt discontinuation of therapy with beta blockers. The last two complications may occur with or without preceding exacerbation of the angina pectoris. As with other beta blockers, when discontinuation of TENORMIN is planned, the patients should be carefully observed and advised to limit physical activity to a minimum. If the angina worsens or acute coronary insufficiency develops, it is recommended that TENORMIN be promptly reinstituted, at least temporarily. Because coronary artery disease is common and may be unrecognized, it may be prudent not to discontinue TENORMIN therapy abruptly even in patients treated only for hypertension. (SeeDOSAGE AND ADMINISTRATION.)\"\n"
      ]
     },
     "metadata": {},
     "output_type": "display_data"
    }
   ],
   "source": [
    "head(unique(spl$boxed_warning),3)\n"
   ]
  },
  {
   "cell_type": "markdown",
   "metadata": {},
   "source": [
    "**We can use unlist to change list to character. We are using the function paste0 to concatenate the lists for each row, with the elements being separated by the value of collapse.**"
   ]
  },
  {
   "cell_type": "code",
   "execution_count": 40,
   "metadata": {},
   "outputs": [],
   "source": [
    "for(i in 1:nrow(spl)){\n",
    "      spl$boxed_warning[i]=paste0(unlist(spl$boxed_warning[i]),collapse=\",\")\n",
    "    }\n",
    "spl$boxed_warning=unlist(spl$boxed_warning)"
   ]
  },
  {
   "cell_type": "code",
   "execution_count": 41,
   "metadata": {},
   "outputs": [
    {
     "name": "stdout",
     "output_type": "stream",
     "text": [
      "Observations: 151,082\n",
      "Variables: 3\n",
      "$ effective_time <date> 2020-05-07, 2020-05-08, 2020-05-10, 2018-11-08, 201...\n",
      "$ boxed_warning  <chr> \"NA\", \"NA\", \"NA\", \"NA\", \"NA\", \"NA\", \"NA\", \"NA\", \"NA\"...\n",
      "$ year           <chr> \"2020\", \"2020\", \"2020\", \"2018\", \"2019\", \"2015\", \"201...\n"
     ]
    }
   ],
   "source": [
    "glimpse(spl)  # check if boxed_warning has been changed to character\n"
   ]
  },
  {
   "cell_type": "markdown",
   "metadata": {},
   "source": [
    "**Get additional variables**"
   ]
  },
  {
   "cell_type": "markdown",
   "metadata": {},
   "source": [
    "As we have seen above, the variable openfda is a data frame and contains important variables. So, let's extract some variables and play with them.\n",
    "\n"
   ]
  },
  {
   "cell_type": "code",
   "execution_count": 42,
   "metadata": {},
   "outputs": [],
   "source": [
    "spl_openfda= fromJSON(filenames[1])$results$openfda\n",
    "\n",
    "spl_openfda=select(spl_openfda,manufacturer_name,product_type,route,generic_name,brand_name,substance_name)\n",
    "\n",
    "  for(i in 2:length(filenames)){\n",
    "      tmp = fromJSON(filenames[i])$results$openfda\n",
    "      tmp = select(tmp,manufacturer_name,product_type,route,generic_name,brand_name,substance_name)\n",
    "      spl_openfda=rbind(spl_openfda, tmp)\n",
    "}"
   ]
  },
  {
   "cell_type": "code",
   "execution_count": 43,
   "metadata": {},
   "outputs": [
    {
     "name": "stdout",
     "output_type": "stream",
     "text": [
      "Observations: 171,082\n",
      "Variables: 6\n",
      "$ manufacturer_name <list> [\"Tonic Bath & Products Shenzhen Ltd\", \"THE KROG...\n",
      "$ product_type      <list> [\"HUMAN OTC DRUG\", \"HUMAN OTC DRUG\", \"HUMAN OTC ...\n",
      "$ route             <list> [\"TOPICAL\", \"TOPICAL\", \"TOPICAL\", NULL, \"ORAL\", ...\n",
      "$ generic_name      <list> [\"ETHYL ALCOHOL\", \"AVOBENZONE, HOMOSALATE, OCTIS...\n",
      "$ brand_name        <list> [\"Hand Sanitizer\", \"KROGER SPORT SPF 15 SUNSCREE...\n",
      "$ substance_name    <list> [\"ALCOHOL\", <\"OCTISALATE\", \"OXYBENZONE\", \"HOMOSA...\n"
     ]
    }
   ],
   "source": [
    "glimpse(spl_openfda)  # we have selected 6 variables and we will unlist the variables which are lists.\n"
   ]
  },
  {
   "cell_type": "code",
   "execution_count": 44,
   "metadata": {},
   "outputs": [
    {
     "data": {
      "text/html": [
       "TRUE"
      ],
      "text/latex": [
       "TRUE"
      ],
      "text/markdown": [
       "TRUE"
      ],
      "text/plain": [
       "[1] TRUE"
      ]
     },
     "metadata": {},
     "output_type": "display_data"
    }
   ],
   "source": [
    "\"NULL\"%in%(spl_openfda$product_type)\n"
   ]
  },
  {
   "cell_type": "markdown",
   "metadata": {},
   "source": [
    "**To unlist, NULL must be changed to NA.**\n",
    "\n"
   ]
  },
  {
   "cell_type": "code",
   "execution_count": 45,
   "metadata": {},
   "outputs": [],
   "source": [
    "spl_openfda$product_type[spl_openfda$product_type==\"NULL\"] =NA\n"
   ]
  },
  {
   "cell_type": "code",
   "execution_count": 46,
   "metadata": {},
   "outputs": [
    {
     "data": {
      "text/html": [
       "<ol>\n",
       "\t<li>'HUMAN OTC DRUG'</li>\n",
       "\t<li>&lt;NA&gt;</li>\n",
       "\t<li>'HUMAN PRESCRIPTION DRUG'</li>\n",
       "</ol>\n"
      ],
      "text/latex": [
       "\\begin{enumerate}\n",
       "\\item 'HUMAN OTC DRUG'\n",
       "\\item <NA>\n",
       "\\item 'HUMAN PRESCRIPTION DRUG'\n",
       "\\end{enumerate}\n"
      ],
      "text/markdown": [
       "1. 'HUMAN OTC DRUG'\n",
       "2. &lt;NA&gt;\n",
       "3. 'HUMAN PRESCRIPTION DRUG'\n",
       "\n",
       "\n"
      ],
      "text/plain": [
       "[[1]]\n",
       "[1] \"HUMAN OTC DRUG\"\n",
       "\n",
       "[[2]]\n",
       "[1] NA\n",
       "\n",
       "[[3]]\n",
       "[1] \"HUMAN PRESCRIPTION DRUG\"\n"
      ]
     },
     "metadata": {},
     "output_type": "display_data"
    }
   ],
   "source": [
    "unique(spl_openfda$product_type)\n"
   ]
  },
  {
   "cell_type": "code",
   "execution_count": 47,
   "metadata": {},
   "outputs": [],
   "source": [
    "spl_openfda = mutate(spl_openfda,product_type=unlist(product_type))\n"
   ]
  },
  {
   "cell_type": "markdown",
   "metadata": {},
   "source": [
    "**Now, let's unlist route.**\n",
    "\n"
   ]
  },
  {
   "cell_type": "code",
   "execution_count": 48,
   "metadata": {},
   "outputs": [
    {
     "data": {
      "text/html": [
       "TRUE"
      ],
      "text/latex": [
       "TRUE"
      ],
      "text/markdown": [
       "TRUE"
      ],
      "text/plain": [
       "[1] TRUE"
      ]
     },
     "metadata": {},
     "output_type": "display_data"
    }
   ],
   "source": [
    "\"NULL\"%in%(spl_openfda$route)\n"
   ]
  },
  {
   "cell_type": "code",
   "execution_count": 49,
   "metadata": {},
   "outputs": [
    {
     "data": {
      "text/html": [
       "<ol>\n",
       "\t<li>'TOPICAL'</li>\n",
       "\t<li>NULL</li>\n",
       "\t<li>'ORAL'</li>\n",
       "\t<li>'BUCCAL'</li>\n",
       "\t<li>'EXTRACORPOREAL'</li>\n",
       "\t<li>'DENTAL'</li>\n",
       "\t<li>'OPHTHALMIC'</li>\n",
       "\t<li>'RESPIRATORY (INHALATION)'</li>\n",
       "\t<li>'AURICULAR (OTIC)'</li>\n",
       "\t<li>'CUTANEOUS'</li>\n",
       "</ol>\n"
      ],
      "text/latex": [
       "\\begin{enumerate}\n",
       "\\item 'TOPICAL'\n",
       "\\item NULL\n",
       "\\item 'ORAL'\n",
       "\\item 'BUCCAL'\n",
       "\\item 'EXTRACORPOREAL'\n",
       "\\item 'DENTAL'\n",
       "\\item 'OPHTHALMIC'\n",
       "\\item 'RESPIRATORY (INHALATION)'\n",
       "\\item 'AURICULAR (OTIC)'\n",
       "\\item 'CUTANEOUS'\n",
       "\\end{enumerate}\n"
      ],
      "text/markdown": [
       "1. 'TOPICAL'\n",
       "2. NULL\n",
       "3. 'ORAL'\n",
       "4. 'BUCCAL'\n",
       "5. 'EXTRACORPOREAL'\n",
       "6. 'DENTAL'\n",
       "7. 'OPHTHALMIC'\n",
       "8. 'RESPIRATORY (INHALATION)'\n",
       "9. 'AURICULAR (OTIC)'\n",
       "10. 'CUTANEOUS'\n",
       "\n",
       "\n"
      ],
      "text/plain": [
       "[[1]]\n",
       "[1] \"TOPICAL\"\n",
       "\n",
       "[[2]]\n",
       "NULL\n",
       "\n",
       "[[3]]\n",
       "[1] \"ORAL\"\n",
       "\n",
       "[[4]]\n",
       "[1] \"BUCCAL\"\n",
       "\n",
       "[[5]]\n",
       "[1] \"EXTRACORPOREAL\"\n",
       "\n",
       "[[6]]\n",
       "[1] \"DENTAL\"\n",
       "\n",
       "[[7]]\n",
       "[1] \"OPHTHALMIC\"\n",
       "\n",
       "[[8]]\n",
       "[1] \"RESPIRATORY (INHALATION)\"\n",
       "\n",
       "[[9]]\n",
       "[1] \"AURICULAR (OTIC)\"\n",
       "\n",
       "[[10]]\n",
       "[1] \"CUTANEOUS\"\n"
      ]
     },
     "metadata": {},
     "output_type": "display_data"
    }
   ],
   "source": [
    "head(unique(spl_openfda$route),10)\n"
   ]
  },
  {
   "cell_type": "code",
   "execution_count": 2,
   "metadata": {
    "collapsed": true
   },
   "outputs": [
    {
     "ename": "ERROR",
     "evalue": "Error in spl_openfda$route[spl_openfda$route == \"NULL\"] = NA: object 'spl_openfda' not found\n",
     "output_type": "error",
     "traceback": [
      "Error in spl_openfda$route[spl_openfda$route == \"NULL\"] = NA: object 'spl_openfda' not found\nTraceback:\n"
     ]
    }
   ],
   "source": [
    "spl_openfda$route[spl_openfda$route==\"NULL\"] =NA\n"
   ]
  },
  {
   "cell_type": "code",
   "execution_count": 1,
   "metadata": {
    "collapsed": true
   },
   "outputs": [
    {
     "ename": "ERROR",
     "evalue": "Error in nrow(spl_openfda): object 'spl_openfda' not found\n",
     "output_type": "error",
     "traceback": [
      "Error in nrow(spl_openfda): object 'spl_openfda' not found\nTraceback:\n",
      "1. nrow(spl_openfda)"
     ]
    }
   ],
   "source": [
    "for(i in 1:nrow(spl_openfda)){\n",
    "      spl_openfda$route[i]=paste0(unlist(spl_openfda$route[i]),collapse=\",\")\n",
    "    }\n",
    "spl_openfda = mutate(spl_openfda, route=unlist(route))"
   ]
  },
  {
   "cell_type": "markdown",
   "metadata": {},
   "source": [
    "\n",
    " \n",
    " \n",
    "# Further reading\n",
    "\n",
    "\n",
    "1.rjson [link](https://www.rdocumentation.org/packages/rjson/versions/0.2.20).\n",
    "\n",
    "2.A Simple and Robust JSON Parser and Generator for R [link](https://cran.r-project.org/web/packages/jsonlite/jsonlite.pdf).\n",
    " \n",
    "3.Web Scraping R Data From JSON (R jsonlite) [link](https://www.programmingr.com/examples/reading-json-data/)\n",
    " \n",
    " \n",
    " _________________________\n",
    "# Summary\n",
    "In this tutorial, you discovered how to analyse JSON data with R. The data scraped from Food and Drug Administration website. \n",
    "\n",
    "Specifically, you learned:\n",
    "\n",
    "How to download json file(Web scrapping).\n",
    "How to explore the data for better insight.\n",
    "How to understand visually .\n",
    "How to merge all data source in a single file.\n",
    "__________________________\n",
    "# Next Step\n",
    "In the next blog post, we will perform the same tasks using Python."
   ]
  },
  {
   "cell_type": "code",
   "execution_count": null,
   "metadata": {},
   "outputs": [],
   "source": []
  }
 ],
 "metadata": {
  "kernelspec": {
   "display_name": "R",
   "language": "R",
   "name": "ir"
  },
  "language_info": {
   "codemirror_mode": "r",
   "file_extension": ".r",
   "mimetype": "text/x-r-source",
   "name": "R",
   "pygments_lexer": "r",
   "version": "3.6.1"
  }
 },
 "nbformat": 4,
 "nbformat_minor": 4
}
